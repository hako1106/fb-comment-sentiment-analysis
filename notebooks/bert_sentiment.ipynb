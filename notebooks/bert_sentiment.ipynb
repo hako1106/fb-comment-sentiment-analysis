{
 "cells": [
  {
   "cell_type": "code",
   "execution_count": 1,
   "id": "44cdb87e",
   "metadata": {},
   "outputs": [],
   "source": [
    "import pandas as pd\n",
    "import torch\n",
    "import torch.nn.functional as F\n",
    "from torch.utils.data import Dataset, DataLoader\n",
    "from transformers import AutoTokenizer, AutoModelForSequenceClassification"
   ]
  },
  {
   "cell_type": "code",
   "execution_count": 2,
   "id": "c60fbced",
   "metadata": {},
   "outputs": [
    {
     "data": {
      "application/vnd.microsoft.datawrangler.viewer.v0+json": {
       "columns": [
        {
         "name": "index",
         "rawType": "int64",
         "type": "integer"
        },
        {
         "name": "url",
         "rawType": "object",
         "type": "string"
        },
        {
         "name": "comment_text",
         "rawType": "object",
         "type": "string"
        },
        {
         "name": "comment_text_remove_emojis",
         "rawType": "object",
         "type": "string"
        }
       ],
       "ref": "c65b8ee6-d6c4-4e11-9654-13ec2523ff5f",
       "rows": [
        [
         "0",
         "https://www.facebook.com/100064878600431/posts/1147451870760756",
         "Em xin chúc anh mạnh khỏe vui vẻ thành công",
         "Em xin chúc anh mạnh khỏe vui vẻ thành công"
        ],
        [
         "1",
         "https://www.facebook.com/100064878600431/posts/1147451870760756",
         "Em xin anh chị bỏ qua giúp em",
         "Em xin anh chị bỏ qua giúp em"
        ],
        [
         "2",
         "https://www.facebook.com/100064878600431/posts/1147451870760756",
         "Em xin cảm ơn mến Đức",
         "Em xin cảm ơn mến Đức"
        ],
        [
         "3",
         "https://www.facebook.com/100064878600431/posts/1147451870760756",
         "36 16 56 96. Dem xac mai moi san . DATA ? xac. Liem giay tao nhe xac mai moi san.",
         "36 16 56 96. Dem xac mai moi san . DATA ? xac. Liem giay tao nhe xac mai moi san."
        ],
        [
         "4",
         "https://www.facebook.com/100064878600431/posts/1147451870760756",
         " ❤️",
         " "
        ],
        [
         "5",
         "https://www.facebook.com/100064878600431/posts/1147451870760756",
         "Rất tuyệt vời",
         "Rất tuyệt vời"
        ],
        [
         "6",
         "https://www.facebook.com/100064878600431/posts/1147451870760756",
         "Iphone 14prm",
         "Iphone 14prm"
        ],
        [
         "7",
         "https://www.facebook.com/100064878600431/posts/1147451870760756",
         "Hi",
         "Hi"
        ],
        [
         "8",
         "https://www.facebook.com/100064878600431/posts/1147451870760756",
         "Mua laptop",
         "Mua laptop"
        ],
        [
         "9",
         "https://www.facebook.com/100064878600431/posts/1147451870760756",
         "Ko thêm chữ còn sau chữ “mà” đc à",
         "Ko thêm chữ còn sau chữ “mà” đc à"
        ]
       ],
       "shape": {
        "columns": 3,
        "rows": 10
       }
      },
      "text/html": [
       "<div>\n",
       "<style scoped>\n",
       "    .dataframe tbody tr th:only-of-type {\n",
       "        vertical-align: middle;\n",
       "    }\n",
       "\n",
       "    .dataframe tbody tr th {\n",
       "        vertical-align: top;\n",
       "    }\n",
       "\n",
       "    .dataframe thead th {\n",
       "        text-align: right;\n",
       "    }\n",
       "</style>\n",
       "<table border=\"1\" class=\"dataframe\">\n",
       "  <thead>\n",
       "    <tr style=\"text-align: right;\">\n",
       "      <th></th>\n",
       "      <th>url</th>\n",
       "      <th>comment_text</th>\n",
       "      <th>comment_text_remove_emojis</th>\n",
       "    </tr>\n",
       "  </thead>\n",
       "  <tbody>\n",
       "    <tr>\n",
       "      <th>0</th>\n",
       "      <td>https://www.facebook.com/100064878600431/posts...</td>\n",
       "      <td>Em xin chúc anh mạnh khỏe vui vẻ thành công</td>\n",
       "      <td>Em xin chúc anh mạnh khỏe vui vẻ thành công</td>\n",
       "    </tr>\n",
       "    <tr>\n",
       "      <th>1</th>\n",
       "      <td>https://www.facebook.com/100064878600431/posts...</td>\n",
       "      <td>Em xin anh chị bỏ qua giúp em</td>\n",
       "      <td>Em xin anh chị bỏ qua giúp em</td>\n",
       "    </tr>\n",
       "    <tr>\n",
       "      <th>2</th>\n",
       "      <td>https://www.facebook.com/100064878600431/posts...</td>\n",
       "      <td>Em xin cảm ơn mến Đức</td>\n",
       "      <td>Em xin cảm ơn mến Đức</td>\n",
       "    </tr>\n",
       "    <tr>\n",
       "      <th>3</th>\n",
       "      <td>https://www.facebook.com/100064878600431/posts...</td>\n",
       "      <td>36 16 56 96. Dem xac mai moi san . DATA ? xac....</td>\n",
       "      <td>36 16 56 96. Dem xac mai moi san . DATA ? xac....</td>\n",
       "    </tr>\n",
       "    <tr>\n",
       "      <th>4</th>\n",
       "      <td>https://www.facebook.com/100064878600431/posts...</td>\n",
       "      <td>❤️</td>\n",
       "      <td></td>\n",
       "    </tr>\n",
       "    <tr>\n",
       "      <th>5</th>\n",
       "      <td>https://www.facebook.com/100064878600431/posts...</td>\n",
       "      <td>Rất tuyệt vời</td>\n",
       "      <td>Rất tuyệt vời</td>\n",
       "    </tr>\n",
       "    <tr>\n",
       "      <th>6</th>\n",
       "      <td>https://www.facebook.com/100064878600431/posts...</td>\n",
       "      <td>Iphone 14prm</td>\n",
       "      <td>Iphone 14prm</td>\n",
       "    </tr>\n",
       "    <tr>\n",
       "      <th>7</th>\n",
       "      <td>https://www.facebook.com/100064878600431/posts...</td>\n",
       "      <td>Hi</td>\n",
       "      <td>Hi</td>\n",
       "    </tr>\n",
       "    <tr>\n",
       "      <th>8</th>\n",
       "      <td>https://www.facebook.com/100064878600431/posts...</td>\n",
       "      <td>Mua laptop</td>\n",
       "      <td>Mua laptop</td>\n",
       "    </tr>\n",
       "    <tr>\n",
       "      <th>9</th>\n",
       "      <td>https://www.facebook.com/100064878600431/posts...</td>\n",
       "      <td>Ko thêm chữ còn sau chữ “mà” đc à</td>\n",
       "      <td>Ko thêm chữ còn sau chữ “mà” đc à</td>\n",
       "    </tr>\n",
       "  </tbody>\n",
       "</table>\n",
       "</div>"
      ],
      "text/plain": [
       "                                                 url  \\\n",
       "0  https://www.facebook.com/100064878600431/posts...   \n",
       "1  https://www.facebook.com/100064878600431/posts...   \n",
       "2  https://www.facebook.com/100064878600431/posts...   \n",
       "3  https://www.facebook.com/100064878600431/posts...   \n",
       "4  https://www.facebook.com/100064878600431/posts...   \n",
       "5  https://www.facebook.com/100064878600431/posts...   \n",
       "6  https://www.facebook.com/100064878600431/posts...   \n",
       "7  https://www.facebook.com/100064878600431/posts...   \n",
       "8  https://www.facebook.com/100064878600431/posts...   \n",
       "9  https://www.facebook.com/100064878600431/posts...   \n",
       "\n",
       "                                        comment_text  \\\n",
       "0        Em xin chúc anh mạnh khỏe vui vẻ thành công   \n",
       "1                      Em xin anh chị bỏ qua giúp em   \n",
       "2                              Em xin cảm ơn mến Đức   \n",
       "3  36 16 56 96. Dem xac mai moi san . DATA ? xac....   \n",
       "4                                                 ❤️   \n",
       "5                                      Rất tuyệt vời   \n",
       "6                                       Iphone 14prm   \n",
       "7                                                 Hi   \n",
       "8                                         Mua laptop   \n",
       "9                  Ko thêm chữ còn sau chữ “mà” đc à   \n",
       "\n",
       "                          comment_text_remove_emojis  \n",
       "0        Em xin chúc anh mạnh khỏe vui vẻ thành công  \n",
       "1                      Em xin anh chị bỏ qua giúp em  \n",
       "2                              Em xin cảm ơn mến Đức  \n",
       "3  36 16 56 96. Dem xac mai moi san . DATA ? xac....  \n",
       "4                                                     \n",
       "5                                      Rất tuyệt vời  \n",
       "6                                       Iphone 14prm  \n",
       "7                                                 Hi  \n",
       "8                                         Mua laptop  \n",
       "9                  Ko thêm chữ còn sau chữ “mà” đc à  "
      ]
     },
     "execution_count": 2,
     "metadata": {},
     "output_type": "execute_result"
    }
   ],
   "source": [
    "df = pd.read_csv('../data/processed/facebook_comments_processed.csv')\n",
    "df.head(10)"
   ]
  },
  {
   "cell_type": "code",
   "execution_count": 3,
   "id": "a1370551",
   "metadata": {},
   "outputs": [
    {
     "data": {
      "text/plain": [
       "RobertaForSequenceClassification(\n",
       "  (roberta): RobertaModel(\n",
       "    (embeddings): RobertaEmbeddings(\n",
       "      (word_embeddings): Embedding(64001, 768, padding_idx=1)\n",
       "      (position_embeddings): Embedding(258, 768, padding_idx=1)\n",
       "      (token_type_embeddings): Embedding(1, 768)\n",
       "      (LayerNorm): LayerNorm((768,), eps=1e-05, elementwise_affine=True)\n",
       "      (dropout): Dropout(p=0.1, inplace=False)\n",
       "    )\n",
       "    (encoder): RobertaEncoder(\n",
       "      (layer): ModuleList(\n",
       "        (0-11): 12 x RobertaLayer(\n",
       "          (attention): RobertaAttention(\n",
       "            (self): RobertaSdpaSelfAttention(\n",
       "              (query): Linear(in_features=768, out_features=768, bias=True)\n",
       "              (key): Linear(in_features=768, out_features=768, bias=True)\n",
       "              (value): Linear(in_features=768, out_features=768, bias=True)\n",
       "              (dropout): Dropout(p=0.1, inplace=False)\n",
       "            )\n",
       "            (output): RobertaSelfOutput(\n",
       "              (dense): Linear(in_features=768, out_features=768, bias=True)\n",
       "              (LayerNorm): LayerNorm((768,), eps=1e-05, elementwise_affine=True)\n",
       "              (dropout): Dropout(p=0.1, inplace=False)\n",
       "            )\n",
       "          )\n",
       "          (intermediate): RobertaIntermediate(\n",
       "            (dense): Linear(in_features=768, out_features=3072, bias=True)\n",
       "            (intermediate_act_fn): GELUActivation()\n",
       "          )\n",
       "          (output): RobertaOutput(\n",
       "            (dense): Linear(in_features=3072, out_features=768, bias=True)\n",
       "            (LayerNorm): LayerNorm((768,), eps=1e-05, elementwise_affine=True)\n",
       "            (dropout): Dropout(p=0.1, inplace=False)\n",
       "          )\n",
       "        )\n",
       "      )\n",
       "    )\n",
       "  )\n",
       "  (classifier): RobertaClassificationHead(\n",
       "    (dense): Linear(in_features=768, out_features=768, bias=True)\n",
       "    (dropout): Dropout(p=0.1, inplace=False)\n",
       "    (out_proj): Linear(in_features=768, out_features=3, bias=True)\n",
       "  )\n",
       ")"
      ]
     },
     "execution_count": 3,
     "metadata": {},
     "output_type": "execute_result"
    }
   ],
   "source": [
    "model_name = \"hieudinhpro/BERT_Sentiment_Vietnamese\"\n",
    "save_path = \"../models/bert_sentiment_vietnamese\"\n",
    "\n",
    "tokenizer = AutoTokenizer.from_pretrained(model_name)\n",
    "model = AutoModelForSequenceClassification.from_pretrained(model_name)\n",
    "\n",
    "tokenizer.save_pretrained(save_path)\n",
    "model.save_pretrained(save_path)\n",
    "\n",
    "device = torch.device(\"cuda\" if torch.cuda.is_available() else \"cpu\")\n",
    "model.to(device)\n",
    "model.eval()"
   ]
  },
  {
   "cell_type": "code",
   "execution_count": 4,
   "id": "9f6be907",
   "metadata": {},
   "outputs": [],
   "source": [
    "labels = ['negative', 'neutral', 'positive']\n",
    "\n",
    "class CommentDataset(Dataset):\n",
    "    def __init__(self, texts):\n",
    "        self.texts = texts\n",
    "\n",
    "    def __len__(self):\n",
    "        return len(self.texts)\n",
    "\n",
    "    def __getitem__(self, idx):\n",
    "        return self.texts[idx]\n",
    "\n",
    "def collate_batch(batch_texts):\n",
    "    return tokenizer(batch_texts, return_tensors=\"pt\", truncation=True, padding=True)"
   ]
  },
  {
   "cell_type": "code",
   "execution_count": 5,
   "id": "5573238f",
   "metadata": {},
   "outputs": [],
   "source": [
    "texts = df['comment_text_remove_emojis'].fillna(\"\").tolist()\n",
    "dataset = CommentDataset(texts)\n",
    "dataloader = DataLoader(dataset, batch_size=16, collate_fn=collate_batch)\n",
    "\n",
    "all_preds = []\n",
    "\n",
    "with torch.no_grad():\n",
    "    for batch in dataloader:\n",
    "        batch = {k: v.to(device) for k, v in batch.items()}\n",
    "        outputs = model(**batch)\n",
    "        probs = F.softmax(outputs.logits, dim=-1)\n",
    "        preds = torch.argmax(probs, dim=-1)\n",
    "        all_preds.extend(preds.cpu().tolist())"
   ]
  },
  {
   "cell_type": "code",
   "execution_count": 6,
   "id": "91e9a39d",
   "metadata": {},
   "outputs": [
    {
     "data": {
      "application/vnd.microsoft.datawrangler.viewer.v0+json": {
       "columns": [
        {
         "name": "index",
         "rawType": "int64",
         "type": "integer"
        },
        {
         "name": "comment_text_remove_emojis",
         "rawType": "object",
         "type": "string"
        },
        {
         "name": "sentiment",
         "rawType": "object",
         "type": "string"
        }
       ],
       "ref": "ec89186b-b6b3-4676-80df-cfd802066b86",
       "rows": [
        [
         "0",
         "Em xin chúc anh mạnh khỏe vui vẻ thành công",
         "positive"
        ],
        [
         "1",
         "Em xin anh chị bỏ qua giúp em",
         "neutral"
        ],
        [
         "2",
         "Em xin cảm ơn mến Đức",
         "neutral"
        ],
        [
         "3",
         "36 16 56 96. Dem xac mai moi san . DATA ? xac. Liem giay tao nhe xac mai moi san.",
         "negative"
        ],
        [
         "4",
         " ",
         "neutral"
        ],
        [
         "5",
         "Rất tuyệt vời",
         "positive"
        ],
        [
         "6",
         "Iphone 14prm",
         "neutral"
        ],
        [
         "7",
         "Hi",
         "positive"
        ],
        [
         "8",
         "Mua laptop",
         "neutral"
        ],
        [
         "9",
         "Ko thêm chữ còn sau chữ “mà” đc à",
         "neutral"
        ],
        [
         "10",
         "https://vt.tiktok.com/ZSkjuEWyq/",
         "neutral"
        ],
        [
         "11",
         "Tự hào về bạn quá, cố gắng phát huy nhé!",
         "positive"
        ],
        [
         "12",
         "Mọi chuyện rồi sẽ ổn, đừng lo quá!",
         "neutral"
        ],
        [
         "13",
         " ",
         "neutral"
        ],
        [
         "14",
         "Xac ? Data ?",
         "neutral"
        ],
        [
         "15",
         "   ",
         "neutral"
        ],
        [
         "16",
         "xin chào",
         "neutral"
        ],
        [
         "17",
         "Tt",
         "neutral"
        ],
        [
         "18",
         "hello",
         "neutral"
        ],
        [
         "19",
         "xinn chàoo",
         "neutral"
        ],
        [
         "20",
         "Ok",
         "neutral"
        ],
        [
         "21",
         "\"Must-have item\" được săn lùng nhiều nhất! Chính là [tai nghe Airpods Pro rep 1:1]: https://vt.tiktok.com/ZSk1Hp6Jc/ ",
         "positive"
        ],
        [
         "22",
         "Bữa tưởng ngưng bán lap rồi chứ",
         "negative"
        ],
        [
         "23",
         "Rất tuyệt vời",
         "positive"
        ],
        [
         "24",
         "Rất tuyệt",
         "positive"
        ],
        [
         "25",
         "Rây tuyệt đẹp",
         "positive"
        ],
        [
         "26",
         "Còn laptop 9.990.000 ko ạ",
         "neutral"
        ],
        [
         "27",
         "Mua tầm 8 triệu tư vấn cho em",
         "neutral"
        ],
        [
         "28",
         "Mua laptop",
         "neutral"
        ],
        [
         "29",
         "PpĐ",
         "neutral"
        ],
        [
         "30",
         "M.m",
         "neutral"
        ],
        [
         "31",
         "I'm Nguyen Lam Hong Ngoc. Ngoctoi",
         "neutral"
        ],
        [
         "32",
         "Hấp dẫn!",
         "neutral"
        ],
        [
         "33",
         " ",
         "neutral"
        ],
        [
         "34",
         "hello",
         "neutral"
        ],
        [
         "35",
         "hj",
         "neutral"
        ],
        [
         "36",
         "Ok",
         "neutral"
        ],
        [
         "37",
         "woww",
         "neutral"
        ],
        [
         "38",
         "10 đỉm cho team vì biết nghe lời ",
         "positive"
        ],
        [
         "39",
         "Đổi content rồi à :)) nhưng vẫn vote đuổi việc team content, team mkt nhé. Tập đoàn lớn mà sao content vcll",
         "negative"
        ],
        [
         "40",
         "Ủa sao hôm trước nói không bán, làm đi đồn quá trời quá đất",
         "negative"
        ],
        [
         "41",
         "Rất tuyệt vời",
         "positive"
        ],
        [
         "42",
         "Túm lại là bán cái gì",
         "negative"
        ],
        [
         "43",
         "content thông minh hơn rồi đấy ad ",
         "negative"
        ],
        [
         "44",
         "Laptop ko có sẵn ở Hcm, ship ở tỉnh xa tới giờ là 4 ngày rồi chưa tới, tính sát nút là 6 ngày mới chịu giao à, vận chuyển tệ thật sự",
         "negative"
        ],
        [
         "45",
         "Mua laptop",
         "neutral"
        ],
        [
         "46",
         "Xin gia laptop 9990000",
         "neutral"
        ],
        [
         "47",
         "Ok",
         "neutral"
        ],
        [
         "48",
         "Ib em tư vấn với ạ, e nhắn tin shop k được",
         "neutral"
        ],
        [
         "49",
         ".",
         "neutral"
        ]
       ],
       "shape": {
        "columns": 2,
        "rows": 418
       }
      },
      "text/html": [
       "<div>\n",
       "<style scoped>\n",
       "    .dataframe tbody tr th:only-of-type {\n",
       "        vertical-align: middle;\n",
       "    }\n",
       "\n",
       "    .dataframe tbody tr th {\n",
       "        vertical-align: top;\n",
       "    }\n",
       "\n",
       "    .dataframe thead th {\n",
       "        text-align: right;\n",
       "    }\n",
       "</style>\n",
       "<table border=\"1\" class=\"dataframe\">\n",
       "  <thead>\n",
       "    <tr style=\"text-align: right;\">\n",
       "      <th></th>\n",
       "      <th>comment_text_remove_emojis</th>\n",
       "      <th>sentiment</th>\n",
       "    </tr>\n",
       "  </thead>\n",
       "  <tbody>\n",
       "    <tr>\n",
       "      <th>0</th>\n",
       "      <td>Em xin chúc anh mạnh khỏe vui vẻ thành công</td>\n",
       "      <td>positive</td>\n",
       "    </tr>\n",
       "    <tr>\n",
       "      <th>1</th>\n",
       "      <td>Em xin anh chị bỏ qua giúp em</td>\n",
       "      <td>neutral</td>\n",
       "    </tr>\n",
       "    <tr>\n",
       "      <th>2</th>\n",
       "      <td>Em xin cảm ơn mến Đức</td>\n",
       "      <td>neutral</td>\n",
       "    </tr>\n",
       "    <tr>\n",
       "      <th>3</th>\n",
       "      <td>36 16 56 96. Dem xac mai moi san . DATA ? xac....</td>\n",
       "      <td>negative</td>\n",
       "    </tr>\n",
       "    <tr>\n",
       "      <th>4</th>\n",
       "      <td></td>\n",
       "      <td>neutral</td>\n",
       "    </tr>\n",
       "    <tr>\n",
       "      <th>...</th>\n",
       "      <td>...</td>\n",
       "      <td>...</td>\n",
       "    </tr>\n",
       "    <tr>\n",
       "      <th>413</th>\n",
       "      <td>Hết ý tưởng r à ad</td>\n",
       "      <td>positive</td>\n",
       "    </tr>\n",
       "    <tr>\n",
       "      <th>414</th>\n",
       "      <td>À nay Tgdđ không bán laptop nữa, ae chuyển qua...</td>\n",
       "      <td>negative</td>\n",
       "    </tr>\n",
       "    <tr>\n",
       "      <th>415</th>\n",
       "      <td></td>\n",
       "      <td>neutral</td>\n",
       "    </tr>\n",
       "    <tr>\n",
       "      <th>416</th>\n",
       "      <td></td>\n",
       "      <td>neutral</td>\n",
       "    </tr>\n",
       "    <tr>\n",
       "      <th>417</th>\n",
       "      <td>Không bán thì thôi, thiếu gì chỗ mua</td>\n",
       "      <td>negative</td>\n",
       "    </tr>\n",
       "  </tbody>\n",
       "</table>\n",
       "<p>418 rows × 2 columns</p>\n",
       "</div>"
      ],
      "text/plain": [
       "                            comment_text_remove_emojis sentiment\n",
       "0          Em xin chúc anh mạnh khỏe vui vẻ thành công  positive\n",
       "1                        Em xin anh chị bỏ qua giúp em   neutral\n",
       "2                                Em xin cảm ơn mến Đức   neutral\n",
       "3    36 16 56 96. Dem xac mai moi san . DATA ? xac....  negative\n",
       "4                                                        neutral\n",
       "..                                                 ...       ...\n",
       "413                                Hết ý tưởng r à ad   positive\n",
       "414  À nay Tgdđ không bán laptop nữa, ae chuyển qua...  negative\n",
       "415                                                      neutral\n",
       "416                                                      neutral\n",
       "417              Không bán thì thôi, thiếu gì chỗ mua   negative\n",
       "\n",
       "[418 rows x 2 columns]"
      ]
     },
     "execution_count": 6,
     "metadata": {},
     "output_type": "execute_result"
    }
   ],
   "source": [
    "df['sentiment'] = [labels[p] for p in all_preds]\n",
    "df[['comment_text_remove_emojis', 'sentiment']]"
   ]
  },
  {
   "cell_type": "code",
   "execution_count": 7,
   "id": "bee4fe4c",
   "metadata": {},
   "outputs": [
    {
     "data": {
      "application/vnd.microsoft.datawrangler.viewer.v0+json": {
       "columns": [
        {
         "name": "sentiment",
         "rawType": "object",
         "type": "string"
        },
        {
         "name": "Count",
         "rawType": "int64",
         "type": "integer"
        },
        {
         "name": "Percentage (%)",
         "rawType": "float64",
         "type": "float"
        }
       ],
       "ref": "3907ccb8-fe21-4626-adbe-a1f36d7af54d",
       "rows": [
        [
         "negative",
         "212",
         "50.72"
        ],
        [
         "neutral",
         "174",
         "41.63"
        ],
        [
         "positive",
         "32",
         "7.66"
        ]
       ],
       "shape": {
        "columns": 2,
        "rows": 3
       }
      },
      "text/html": [
       "<div>\n",
       "<style scoped>\n",
       "    .dataframe tbody tr th:only-of-type {\n",
       "        vertical-align: middle;\n",
       "    }\n",
       "\n",
       "    .dataframe tbody tr th {\n",
       "        vertical-align: top;\n",
       "    }\n",
       "\n",
       "    .dataframe thead th {\n",
       "        text-align: right;\n",
       "    }\n",
       "</style>\n",
       "<table border=\"1\" class=\"dataframe\">\n",
       "  <thead>\n",
       "    <tr style=\"text-align: right;\">\n",
       "      <th></th>\n",
       "      <th>Count</th>\n",
       "      <th>Percentage (%)</th>\n",
       "    </tr>\n",
       "    <tr>\n",
       "      <th>sentiment</th>\n",
       "      <th></th>\n",
       "      <th></th>\n",
       "    </tr>\n",
       "  </thead>\n",
       "  <tbody>\n",
       "    <tr>\n",
       "      <th>negative</th>\n",
       "      <td>212</td>\n",
       "      <td>50.72</td>\n",
       "    </tr>\n",
       "    <tr>\n",
       "      <th>neutral</th>\n",
       "      <td>174</td>\n",
       "      <td>41.63</td>\n",
       "    </tr>\n",
       "    <tr>\n",
       "      <th>positive</th>\n",
       "      <td>32</td>\n",
       "      <td>7.66</td>\n",
       "    </tr>\n",
       "  </tbody>\n",
       "</table>\n",
       "</div>"
      ],
      "text/plain": [
       "           Count  Percentage (%)\n",
       "sentiment                       \n",
       "negative     212           50.72\n",
       "neutral      174           41.63\n",
       "positive      32            7.66"
      ]
     },
     "execution_count": 7,
     "metadata": {},
     "output_type": "execute_result"
    }
   ],
   "source": [
    "sentiment_counts = df['sentiment'].value_counts()\n",
    "sentiment_percent = df['sentiment'].value_counts(normalize=True) * 100\n",
    "\n",
    "result = pd.DataFrame({\n",
    "    'Count': sentiment_counts,\n",
    "    'Percentage (%)': sentiment_percent.round(2)\n",
    "})\n",
    "\n",
    "result"
   ]
  },
  {
   "cell_type": "code",
   "execution_count": 8,
   "id": "7d4bb920",
   "metadata": {},
   "outputs": [
    {
     "data": {
      "application/vnd.microsoft.datawrangler.viewer.v0+json": {
       "columns": [
        {
         "name": "index",
         "rawType": "int64",
         "type": "integer"
        },
        {
         "name": "url",
         "rawType": "object",
         "type": "string"
        },
        {
         "name": "comment_text",
         "rawType": "object",
         "type": "string"
        },
        {
         "name": "comment_text_remove_emojis",
         "rawType": "object",
         "type": "string"
        },
        {
         "name": "sentiment",
         "rawType": "object",
         "type": "string"
        }
       ],
       "ref": "6419e43f-319e-4804-b764-ee2721fc8cc7",
       "rows": [
        [
         "0",
         "https://www.facebook.com/100064878600431/posts/1147451870760756",
         "Em xin chúc anh mạnh khỏe vui vẻ thành công",
         "Em xin chúc anh mạnh khỏe vui vẻ thành công",
         "positive"
        ],
        [
         "5",
         "https://www.facebook.com/100064878600431/posts/1147451870760756",
         "Rất tuyệt vời",
         "Rất tuyệt vời",
         "positive"
        ],
        [
         "7",
         "https://www.facebook.com/100064878600431/posts/1147451870760756",
         "Hi",
         "Hi",
         "positive"
        ],
        [
         "11",
         "https://www.facebook.com/100064878600431/posts/1147451870760756",
         "Tự hào về bạn quá, cố gắng phát huy nhé!",
         "Tự hào về bạn quá, cố gắng phát huy nhé!",
         "positive"
        ],
        [
         "21",
         "https://www.facebook.com/100064878600431/posts/1147451870760756",
         "\"Must-have item\" được săn lùng nhiều nhất! Chính là [tai nghe Airpods Pro rep 1:1]: https://vt.tiktok.com/ZSk1Hp6Jc/ 👍",
         "\"Must-have item\" được săn lùng nhiều nhất! Chính là [tai nghe Airpods Pro rep 1:1]: https://vt.tiktok.com/ZSk1Hp6Jc/ ",
         "positive"
        ],
        [
         "23",
         "https://www.facebook.com/100064878600431/posts/1147436614095615",
         "Rất tuyệt vời",
         "Rất tuyệt vời",
         "positive"
        ],
        [
         "24",
         "https://www.facebook.com/100064878600431/posts/1147436614095615",
         "Rất tuyệt",
         "Rất tuyệt",
         "positive"
        ],
        [
         "25",
         "https://www.facebook.com/100064878600431/posts/1147436614095615",
         "Rây tuyệt đẹp",
         "Rây tuyệt đẹp",
         "positive"
        ],
        [
         "38",
         "https://www.facebook.com/100064878600431/posts/1147413360764607",
         "10 đỉm cho team vì biết nghe lời 🤣",
         "10 đỉm cho team vì biết nghe lời ",
         "positive"
        ],
        [
         "41",
         "https://www.facebook.com/100064878600431/posts/1147413360764607",
         "Rất tuyệt vời",
         "Rất tuyệt vời",
         "positive"
        ],
        [
         "61",
         "https://www.facebook.com/100064878600431/posts/1147413360764607",
         "Content này còn được này add:)",
         "Content này còn được này add:)",
         "positive"
        ],
        [
         "63",
         "https://www.facebook.com/100064878600431/posts/1146548730851070",
         "Rất tuyệt vời",
         "Rất tuyệt vời",
         "positive"
        ],
        [
         "79",
         "https://www.facebook.com/100064878600431/posts/1146529790852964",
         "Rất tuyệt vời",
         "Rất tuyệt vời",
         "positive"
        ],
        [
         "105",
         "https://www.facebook.com/100064878600431/posts/1146504504188826",
         "Tặng office trọn đời hay sao ạ 😆",
         "Tặng office trọn đời hay sao ạ ",
         "positive"
        ],
        [
         "112",
         "https://www.facebook.com/100064878600431/posts/1146504504188826",
         "Office vĩnh viễn hả ta",
         "Office vĩnh viễn hả ta",
         "positive"
        ],
        [
         "137",
         "https://www.facebook.com/100064878600431/posts/1146504504188826",
         "Cười v 🤣",
         "Cười v ",
         "positive"
        ],
        [
         "170",
         "https://www.facebook.com/100064878600431/posts/1146504504188826",
         "Content này phản dame nha- chê á",
         "Content này phản dame nha- chê á",
         "positive"
        ],
        [
         "189",
         "https://www.facebook.com/100064878600431/posts/1145328240973119",
         "Đang định sáng mai vào mua",
         "Đang định sáng mai vào mua",
         "positive"
        ],
        [
         "195",
         "https://www.facebook.com/100064878600431/posts/1145328240973119",
         "Continued",
         "Continued",
         "positive"
        ],
        [
         "205",
         "https://www.facebook.com/100064878600431/posts/1145328240973119",
         "Ai duyệt camp này được cũng hay 🥲",
         "Ai duyệt camp này được cũng hay ",
         "positive"
        ],
        [
         "257",
         "https://www.facebook.com/100064878600431/posts/1145328240973119",
         "Chak ban may tinh sach tay",
         "Chak ban may tinh sach tay",
         "positive"
        ],
        [
         "259",
         "https://www.facebook.com/100064878600431/posts/1145328240973119",
         "Nói linh tinh",
         "Nói linh tinh",
         "positive"
        ],
        [
         "314",
         "https://www.facebook.com/100064878600431/posts/1145328240973119",
         "Bỏ hả￼",
         "Bỏ hả￼",
         "positive"
        ],
        [
         "326",
         "https://www.facebook.com/100064878600431/posts/1145328240973119",
         "chắc số laptop 30-31 tháng 05 này tốt lắm nè",
         "chắc số laptop 30-31 tháng 05 này tốt lắm nè",
         "positive"
        ],
        [
         "327",
         "https://www.facebook.com/100064878600431/posts/1145328240973119",
         "Tặng y",
         "Tặng y",
         "positive"
        ],
        [
         "330",
         "https://www.facebook.com/100064878600431/posts/1145328240973119",
         "Tin chuẩn k ad",
         "Tin chuẩn k ad",
         "positive"
        ],
        [
         "352",
         "https://www.facebook.com/100064878600431/posts/1145328240973119",
         "Để qua fpt shop. Thanks ad thông tin nha",
         "Để qua fpt shop. Thanks ad thông tin nha",
         "positive"
        ],
        [
         "380",
         "https://www.facebook.com/100064878600431/posts/1145328240973119",
         "Thegioididong mãi đỉnh. \n Bán giá tốt mà tư vấn, chăm sóc khách hàng có tâm. Các ông mà chê Thegioididong thì đi các cửa hàng khác, sau vẫn quay lại Thegioididong mua mà thôi. Từ điện thoại, máy tính và rất nhiều đồ khác tôi mua ở đây, dùng bền và chất… Xem thêm 😃",
         "Thegioididong mãi đỉnh. \n Bán giá tốt mà tư vấn, chăm sóc khách hàng có tâm. Các ông mà chê Thegioididong thì đi các cửa hàng khác, sau vẫn quay lại Thegioididong mua mà thôi. Từ điện thoại, máy tính và rất nhiều đồ khác tôi mua ở đây, dùng bền và chất… Xem thêm ",
         "positive"
        ],
        [
         "391",
         "https://www.facebook.com/100064878600431/posts/1145328240973119",
         "Ok qua chỗ nào bán mua",
         "Ok qua chỗ nào bán mua",
         "positive"
        ],
        [
         "401",
         "https://www.facebook.com/100064878600431/posts/1145328240973119",
         "Content mạnh v",
         "Content mạnh v",
         "positive"
        ],
        [
         "404",
         "https://www.facebook.com/100064878600431/posts/1145328240973119",
         "Nguyễn Tính đọc cmt… tôi có thể cười đến cuối đời",
         "Nguyễn Tính đọc cmt… tôi có thể cười đến cuối đời",
         "positive"
        ],
        [
         "413",
         "https://www.facebook.com/100064878600431/posts/1145328240973119",
         "Hết ý tưởng r à ad 🤣",
         "Hết ý tưởng r à ad ",
         "positive"
        ]
       ],
       "shape": {
        "columns": 4,
        "rows": 32
       }
      },
      "text/html": [
       "<div>\n",
       "<style scoped>\n",
       "    .dataframe tbody tr th:only-of-type {\n",
       "        vertical-align: middle;\n",
       "    }\n",
       "\n",
       "    .dataframe tbody tr th {\n",
       "        vertical-align: top;\n",
       "    }\n",
       "\n",
       "    .dataframe thead th {\n",
       "        text-align: right;\n",
       "    }\n",
       "</style>\n",
       "<table border=\"1\" class=\"dataframe\">\n",
       "  <thead>\n",
       "    <tr style=\"text-align: right;\">\n",
       "      <th></th>\n",
       "      <th>url</th>\n",
       "      <th>comment_text</th>\n",
       "      <th>comment_text_remove_emojis</th>\n",
       "      <th>sentiment</th>\n",
       "    </tr>\n",
       "  </thead>\n",
       "  <tbody>\n",
       "    <tr>\n",
       "      <th>0</th>\n",
       "      <td>https://www.facebook.com/100064878600431/posts...</td>\n",
       "      <td>Em xin chúc anh mạnh khỏe vui vẻ thành công</td>\n",
       "      <td>Em xin chúc anh mạnh khỏe vui vẻ thành công</td>\n",
       "      <td>positive</td>\n",
       "    </tr>\n",
       "    <tr>\n",
       "      <th>5</th>\n",
       "      <td>https://www.facebook.com/100064878600431/posts...</td>\n",
       "      <td>Rất tuyệt vời</td>\n",
       "      <td>Rất tuyệt vời</td>\n",
       "      <td>positive</td>\n",
       "    </tr>\n",
       "    <tr>\n",
       "      <th>7</th>\n",
       "      <td>https://www.facebook.com/100064878600431/posts...</td>\n",
       "      <td>Hi</td>\n",
       "      <td>Hi</td>\n",
       "      <td>positive</td>\n",
       "    </tr>\n",
       "    <tr>\n",
       "      <th>11</th>\n",
       "      <td>https://www.facebook.com/100064878600431/posts...</td>\n",
       "      <td>Tự hào về bạn quá, cố gắng phát huy nhé!</td>\n",
       "      <td>Tự hào về bạn quá, cố gắng phát huy nhé!</td>\n",
       "      <td>positive</td>\n",
       "    </tr>\n",
       "    <tr>\n",
       "      <th>21</th>\n",
       "      <td>https://www.facebook.com/100064878600431/posts...</td>\n",
       "      <td>\"Must-have item\" được săn lùng nhiều nhất! Chí...</td>\n",
       "      <td>\"Must-have item\" được săn lùng nhiều nhất! Chí...</td>\n",
       "      <td>positive</td>\n",
       "    </tr>\n",
       "    <tr>\n",
       "      <th>23</th>\n",
       "      <td>https://www.facebook.com/100064878600431/posts...</td>\n",
       "      <td>Rất tuyệt vời</td>\n",
       "      <td>Rất tuyệt vời</td>\n",
       "      <td>positive</td>\n",
       "    </tr>\n",
       "    <tr>\n",
       "      <th>24</th>\n",
       "      <td>https://www.facebook.com/100064878600431/posts...</td>\n",
       "      <td>Rất tuyệt</td>\n",
       "      <td>Rất tuyệt</td>\n",
       "      <td>positive</td>\n",
       "    </tr>\n",
       "    <tr>\n",
       "      <th>25</th>\n",
       "      <td>https://www.facebook.com/100064878600431/posts...</td>\n",
       "      <td>Rây tuyệt đẹp</td>\n",
       "      <td>Rây tuyệt đẹp</td>\n",
       "      <td>positive</td>\n",
       "    </tr>\n",
       "    <tr>\n",
       "      <th>38</th>\n",
       "      <td>https://www.facebook.com/100064878600431/posts...</td>\n",
       "      <td>10 đỉm cho team vì biết nghe lời 🤣</td>\n",
       "      <td>10 đỉm cho team vì biết nghe lời</td>\n",
       "      <td>positive</td>\n",
       "    </tr>\n",
       "    <tr>\n",
       "      <th>41</th>\n",
       "      <td>https://www.facebook.com/100064878600431/posts...</td>\n",
       "      <td>Rất tuyệt vời</td>\n",
       "      <td>Rất tuyệt vời</td>\n",
       "      <td>positive</td>\n",
       "    </tr>\n",
       "    <tr>\n",
       "      <th>61</th>\n",
       "      <td>https://www.facebook.com/100064878600431/posts...</td>\n",
       "      <td>Content này còn được này add:)</td>\n",
       "      <td>Content này còn được này add:)</td>\n",
       "      <td>positive</td>\n",
       "    </tr>\n",
       "    <tr>\n",
       "      <th>63</th>\n",
       "      <td>https://www.facebook.com/100064878600431/posts...</td>\n",
       "      <td>Rất tuyệt vời</td>\n",
       "      <td>Rất tuyệt vời</td>\n",
       "      <td>positive</td>\n",
       "    </tr>\n",
       "    <tr>\n",
       "      <th>79</th>\n",
       "      <td>https://www.facebook.com/100064878600431/posts...</td>\n",
       "      <td>Rất tuyệt vời</td>\n",
       "      <td>Rất tuyệt vời</td>\n",
       "      <td>positive</td>\n",
       "    </tr>\n",
       "    <tr>\n",
       "      <th>105</th>\n",
       "      <td>https://www.facebook.com/100064878600431/posts...</td>\n",
       "      <td>Tặng office trọn đời hay sao ạ 😆</td>\n",
       "      <td>Tặng office trọn đời hay sao ạ</td>\n",
       "      <td>positive</td>\n",
       "    </tr>\n",
       "    <tr>\n",
       "      <th>112</th>\n",
       "      <td>https://www.facebook.com/100064878600431/posts...</td>\n",
       "      <td>Office vĩnh viễn hả ta</td>\n",
       "      <td>Office vĩnh viễn hả ta</td>\n",
       "      <td>positive</td>\n",
       "    </tr>\n",
       "    <tr>\n",
       "      <th>137</th>\n",
       "      <td>https://www.facebook.com/100064878600431/posts...</td>\n",
       "      <td>Cười v 🤣</td>\n",
       "      <td>Cười v</td>\n",
       "      <td>positive</td>\n",
       "    </tr>\n",
       "    <tr>\n",
       "      <th>170</th>\n",
       "      <td>https://www.facebook.com/100064878600431/posts...</td>\n",
       "      <td>Content này phản dame nha- chê á</td>\n",
       "      <td>Content này phản dame nha- chê á</td>\n",
       "      <td>positive</td>\n",
       "    </tr>\n",
       "    <tr>\n",
       "      <th>189</th>\n",
       "      <td>https://www.facebook.com/100064878600431/posts...</td>\n",
       "      <td>Đang định sáng mai vào mua</td>\n",
       "      <td>Đang định sáng mai vào mua</td>\n",
       "      <td>positive</td>\n",
       "    </tr>\n",
       "    <tr>\n",
       "      <th>195</th>\n",
       "      <td>https://www.facebook.com/100064878600431/posts...</td>\n",
       "      <td>Continued</td>\n",
       "      <td>Continued</td>\n",
       "      <td>positive</td>\n",
       "    </tr>\n",
       "    <tr>\n",
       "      <th>205</th>\n",
       "      <td>https://www.facebook.com/100064878600431/posts...</td>\n",
       "      <td>Ai duyệt camp này được cũng hay 🥲</td>\n",
       "      <td>Ai duyệt camp này được cũng hay</td>\n",
       "      <td>positive</td>\n",
       "    </tr>\n",
       "    <tr>\n",
       "      <th>257</th>\n",
       "      <td>https://www.facebook.com/100064878600431/posts...</td>\n",
       "      <td>Chak ban may tinh sach tay</td>\n",
       "      <td>Chak ban may tinh sach tay</td>\n",
       "      <td>positive</td>\n",
       "    </tr>\n",
       "    <tr>\n",
       "      <th>259</th>\n",
       "      <td>https://www.facebook.com/100064878600431/posts...</td>\n",
       "      <td>Nói linh tinh</td>\n",
       "      <td>Nói linh tinh</td>\n",
       "      <td>positive</td>\n",
       "    </tr>\n",
       "    <tr>\n",
       "      <th>314</th>\n",
       "      <td>https://www.facebook.com/100064878600431/posts...</td>\n",
       "      <td>Bỏ hả￼</td>\n",
       "      <td>Bỏ hả￼</td>\n",
       "      <td>positive</td>\n",
       "    </tr>\n",
       "    <tr>\n",
       "      <th>326</th>\n",
       "      <td>https://www.facebook.com/100064878600431/posts...</td>\n",
       "      <td>chắc số laptop 30-31 tháng 05 này tốt lắm nè</td>\n",
       "      <td>chắc số laptop 30-31 tháng 05 này tốt lắm nè</td>\n",
       "      <td>positive</td>\n",
       "    </tr>\n",
       "    <tr>\n",
       "      <th>327</th>\n",
       "      <td>https://www.facebook.com/100064878600431/posts...</td>\n",
       "      <td>Tặng y</td>\n",
       "      <td>Tặng y</td>\n",
       "      <td>positive</td>\n",
       "    </tr>\n",
       "    <tr>\n",
       "      <th>330</th>\n",
       "      <td>https://www.facebook.com/100064878600431/posts...</td>\n",
       "      <td>Tin chuẩn k ad</td>\n",
       "      <td>Tin chuẩn k ad</td>\n",
       "      <td>positive</td>\n",
       "    </tr>\n",
       "    <tr>\n",
       "      <th>352</th>\n",
       "      <td>https://www.facebook.com/100064878600431/posts...</td>\n",
       "      <td>Để qua fpt shop. Thanks ad thông tin nha</td>\n",
       "      <td>Để qua fpt shop. Thanks ad thông tin nha</td>\n",
       "      <td>positive</td>\n",
       "    </tr>\n",
       "    <tr>\n",
       "      <th>380</th>\n",
       "      <td>https://www.facebook.com/100064878600431/posts...</td>\n",
       "      <td>Thegioididong mãi đỉnh. \\n Bán giá tốt mà tư v...</td>\n",
       "      <td>Thegioididong mãi đỉnh. \\n Bán giá tốt mà tư v...</td>\n",
       "      <td>positive</td>\n",
       "    </tr>\n",
       "    <tr>\n",
       "      <th>391</th>\n",
       "      <td>https://www.facebook.com/100064878600431/posts...</td>\n",
       "      <td>Ok qua chỗ nào bán mua</td>\n",
       "      <td>Ok qua chỗ nào bán mua</td>\n",
       "      <td>positive</td>\n",
       "    </tr>\n",
       "    <tr>\n",
       "      <th>401</th>\n",
       "      <td>https://www.facebook.com/100064878600431/posts...</td>\n",
       "      <td>Content mạnh v</td>\n",
       "      <td>Content mạnh v</td>\n",
       "      <td>positive</td>\n",
       "    </tr>\n",
       "    <tr>\n",
       "      <th>404</th>\n",
       "      <td>https://www.facebook.com/100064878600431/posts...</td>\n",
       "      <td>Nguyễn Tính đọc cmt… tôi có thể cười đến cuối đời</td>\n",
       "      <td>Nguyễn Tính đọc cmt… tôi có thể cười đến cuối đời</td>\n",
       "      <td>positive</td>\n",
       "    </tr>\n",
       "    <tr>\n",
       "      <th>413</th>\n",
       "      <td>https://www.facebook.com/100064878600431/posts...</td>\n",
       "      <td>Hết ý tưởng r à ad 🤣</td>\n",
       "      <td>Hết ý tưởng r à ad</td>\n",
       "      <td>positive</td>\n",
       "    </tr>\n",
       "  </tbody>\n",
       "</table>\n",
       "</div>"
      ],
      "text/plain": [
       "                                                   url  \\\n",
       "0    https://www.facebook.com/100064878600431/posts...   \n",
       "5    https://www.facebook.com/100064878600431/posts...   \n",
       "7    https://www.facebook.com/100064878600431/posts...   \n",
       "11   https://www.facebook.com/100064878600431/posts...   \n",
       "21   https://www.facebook.com/100064878600431/posts...   \n",
       "23   https://www.facebook.com/100064878600431/posts...   \n",
       "24   https://www.facebook.com/100064878600431/posts...   \n",
       "25   https://www.facebook.com/100064878600431/posts...   \n",
       "38   https://www.facebook.com/100064878600431/posts...   \n",
       "41   https://www.facebook.com/100064878600431/posts...   \n",
       "61   https://www.facebook.com/100064878600431/posts...   \n",
       "63   https://www.facebook.com/100064878600431/posts...   \n",
       "79   https://www.facebook.com/100064878600431/posts...   \n",
       "105  https://www.facebook.com/100064878600431/posts...   \n",
       "112  https://www.facebook.com/100064878600431/posts...   \n",
       "137  https://www.facebook.com/100064878600431/posts...   \n",
       "170  https://www.facebook.com/100064878600431/posts...   \n",
       "189  https://www.facebook.com/100064878600431/posts...   \n",
       "195  https://www.facebook.com/100064878600431/posts...   \n",
       "205  https://www.facebook.com/100064878600431/posts...   \n",
       "257  https://www.facebook.com/100064878600431/posts...   \n",
       "259  https://www.facebook.com/100064878600431/posts...   \n",
       "314  https://www.facebook.com/100064878600431/posts...   \n",
       "326  https://www.facebook.com/100064878600431/posts...   \n",
       "327  https://www.facebook.com/100064878600431/posts...   \n",
       "330  https://www.facebook.com/100064878600431/posts...   \n",
       "352  https://www.facebook.com/100064878600431/posts...   \n",
       "380  https://www.facebook.com/100064878600431/posts...   \n",
       "391  https://www.facebook.com/100064878600431/posts...   \n",
       "401  https://www.facebook.com/100064878600431/posts...   \n",
       "404  https://www.facebook.com/100064878600431/posts...   \n",
       "413  https://www.facebook.com/100064878600431/posts...   \n",
       "\n",
       "                                          comment_text  \\\n",
       "0          Em xin chúc anh mạnh khỏe vui vẻ thành công   \n",
       "5                                        Rất tuyệt vời   \n",
       "7                                                   Hi   \n",
       "11            Tự hào về bạn quá, cố gắng phát huy nhé!   \n",
       "21   \"Must-have item\" được săn lùng nhiều nhất! Chí...   \n",
       "23                                       Rất tuyệt vời   \n",
       "24                                           Rất tuyệt   \n",
       "25                                       Rây tuyệt đẹp   \n",
       "38                  10 đỉm cho team vì biết nghe lời 🤣   \n",
       "41                                       Rất tuyệt vời   \n",
       "61                      Content này còn được này add:)   \n",
       "63                                       Rất tuyệt vời   \n",
       "79                                       Rất tuyệt vời   \n",
       "105                   Tặng office trọn đời hay sao ạ 😆   \n",
       "112                             Office vĩnh viễn hả ta   \n",
       "137                                           Cười v 🤣   \n",
       "170                   Content này phản dame nha- chê á   \n",
       "189                         Đang định sáng mai vào mua   \n",
       "195                                          Continued   \n",
       "205                  Ai duyệt camp này được cũng hay 🥲   \n",
       "257                         Chak ban may tinh sach tay   \n",
       "259                                      Nói linh tinh   \n",
       "314                                             Bỏ hả￼   \n",
       "326       chắc số laptop 30-31 tháng 05 này tốt lắm nè   \n",
       "327                                             Tặng y   \n",
       "330                                     Tin chuẩn k ad   \n",
       "352           Để qua fpt shop. Thanks ad thông tin nha   \n",
       "380  Thegioididong mãi đỉnh. \\n Bán giá tốt mà tư v...   \n",
       "391                             Ok qua chỗ nào bán mua   \n",
       "401                                     Content mạnh v   \n",
       "404  Nguyễn Tính đọc cmt… tôi có thể cười đến cuối đời   \n",
       "413                               Hết ý tưởng r à ad 🤣   \n",
       "\n",
       "                            comment_text_remove_emojis sentiment  \n",
       "0          Em xin chúc anh mạnh khỏe vui vẻ thành công  positive  \n",
       "5                                        Rất tuyệt vời  positive  \n",
       "7                                                   Hi  positive  \n",
       "11            Tự hào về bạn quá, cố gắng phát huy nhé!  positive  \n",
       "21   \"Must-have item\" được săn lùng nhiều nhất! Chí...  positive  \n",
       "23                                       Rất tuyệt vời  positive  \n",
       "24                                           Rất tuyệt  positive  \n",
       "25                                       Rây tuyệt đẹp  positive  \n",
       "38                   10 đỉm cho team vì biết nghe lời   positive  \n",
       "41                                       Rất tuyệt vời  positive  \n",
       "61                      Content này còn được này add:)  positive  \n",
       "63                                       Rất tuyệt vời  positive  \n",
       "79                                       Rất tuyệt vời  positive  \n",
       "105                    Tặng office trọn đời hay sao ạ   positive  \n",
       "112                             Office vĩnh viễn hả ta  positive  \n",
       "137                                            Cười v   positive  \n",
       "170                   Content này phản dame nha- chê á  positive  \n",
       "189                         Đang định sáng mai vào mua  positive  \n",
       "195                                          Continued  positive  \n",
       "205                   Ai duyệt camp này được cũng hay   positive  \n",
       "257                         Chak ban may tinh sach tay  positive  \n",
       "259                                      Nói linh tinh  positive  \n",
       "314                                             Bỏ hả￼  positive  \n",
       "326       chắc số laptop 30-31 tháng 05 này tốt lắm nè  positive  \n",
       "327                                             Tặng y  positive  \n",
       "330                                     Tin chuẩn k ad  positive  \n",
       "352           Để qua fpt shop. Thanks ad thông tin nha  positive  \n",
       "380  Thegioididong mãi đỉnh. \\n Bán giá tốt mà tư v...  positive  \n",
       "391                             Ok qua chỗ nào bán mua  positive  \n",
       "401                                     Content mạnh v  positive  \n",
       "404  Nguyễn Tính đọc cmt… tôi có thể cười đến cuối đời  positive  \n",
       "413                                Hết ý tưởng r à ad   positive  "
      ]
     },
     "execution_count": 8,
     "metadata": {},
     "output_type": "execute_result"
    }
   ],
   "source": [
    "positive_df = df[df['sentiment'] == 'positive']\n",
    "positive_df"
   ]
  },
  {
   "cell_type": "code",
   "execution_count": 9,
   "id": "40678756",
   "metadata": {},
   "outputs": [],
   "source": [
    "df.to_csv('../data/processed/facebook_comments_processed_with_sentiment.csv', index=False)"
   ]
  }
 ],
 "metadata": {
  "kernelspec": {
   "display_name": "fb-comment-sentiment-analysis",
   "language": "python",
   "name": "python3"
  },
  "language_info": {
   "codemirror_mode": {
    "name": "ipython",
    "version": 3
   },
   "file_extension": ".py",
   "mimetype": "text/x-python",
   "name": "python",
   "nbconvert_exporter": "python",
   "pygments_lexer": "ipython3",
   "version": "3.11.9"
  }
 },
 "nbformat": 4,
 "nbformat_minor": 5
}
