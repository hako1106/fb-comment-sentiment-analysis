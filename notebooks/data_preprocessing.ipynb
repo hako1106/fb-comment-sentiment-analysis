{
 "cells": [
  {
   "cell_type": "code",
   "execution_count": 43,
   "id": "5b1f2155",
   "metadata": {},
   "outputs": [],
   "source": [
    "import pandas as pd\n",
    "import emoji"
   ]
  },
  {
   "cell_type": "markdown",
   "id": "fd61083c",
   "metadata": {},
   "source": [
    "# Xử lý `facebook_posts.csv`"
   ]
  },
  {
   "cell_type": "code",
   "execution_count": 44,
   "id": "156e28fe",
   "metadata": {},
   "outputs": [
    {
     "data": {
      "application/vnd.microsoft.datawrangler.viewer.v0+json": {
       "columns": [
        {
         "name": "index",
         "rawType": "int64",
         "type": "integer"
        },
        {
         "name": "url",
         "rawType": "object",
         "type": "string"
        },
        {
         "name": "author",
         "rawType": "object",
         "type": "string"
        },
        {
         "name": "content",
         "rawType": "object",
         "type": "unknown"
        },
        {
         "name": "reactions_count",
         "rawType": "int64",
         "type": "integer"
        },
        {
         "name": "comments_count",
         "rawType": "int64",
         "type": "integer"
        },
        {
         "name": "shares_count",
         "rawType": "int64",
         "type": "integer"
        },
        {
         "name": "total_comments_crawled",
         "rawType": "int64",
         "type": "integer"
        }
       ],
       "ref": "b58b05a1-a6e2-43e0-9fdd-71510930b92b",
       "rows": [
        [
         "0",
         "https://www.facebook.com/100064878600431/posts/1147451870760756",
         "Thế Giới Di Động (thegioididong.com)",
         "Bạn KHÔNG CHỈ MUA LAPTOP mà mua CƠ HỘI ĐỂ BỨT PHÁ!\nTại Thế Giới Di Động, mỗi chiếc Laptop bạn chọn không chỉ là thiết bị – mà còn là người bạn đồng hành để Kiến thức mở rộng, nâng cao Cơ hội nghề nghiệp, khai phá Đam mê.\nVới những Ưu Đãi vô cùng Vượt Trội:\n 100% cài sẵn Windows bản quyền\n 100% tặng Microsoft Office\n Xài trước, trả sau 0% lãi suất\n Đặc quyền HSSV, GIÁO VIÊN giảm thêm đến 500.000\n Mua kèm chuột/ bàn phím/ balo/ túi/ tai nghe giảm đến 40%\nHãy tự tin sở hữu Laptop tại Thế Giới Di Động – nơi mỗi chiếc máy tính là chìa khoá, là bệ phóng, là cánh cửa tươi sáng dẫn lối bạn bước vào tương lai. Hiệu năng đỉnh, ưu đãi chất, đồng hành cùng bứt phá!\n Mua ngay tại: https://www.thegioididong.com/laptop\n---\n Liên hệ tổng đài 1900.232.460 để được tư vấn thêm về chương trình.",
         "10000",
         "88",
         "2",
         "26"
        ],
        [
         "1",
         "https://www.facebook.com/100064878600431/posts/1147447477427862",
         "Thế Giới Di Động (thegioididong.com)",
         null,
         "27",
         "0",
         "2",
         "0"
        ],
        [
         "2",
         "https://www.facebook.com/100064878600431/posts/1147436614095615",
         "Thế Giới Di Động (thegioididong.com)",
         "MUA LAPTOP nhận trọn bộ HÀNH TRANG VƯỢT TRỘI!\nTại Thế Giới Di Động, mỗi chiếc Laptop bạn chọn không chỉ là thiết bị – mà còn là người bạn đồng hành để Kiến thức mở rộng, nâng cao Cơ hội nghề nghiệp, khai phá Đam mê.\nVới những Ưu Đãi vô cùng Vượt Trội:\n 100% cài sẵn Windows bản quyền\n 100% tặng Microsoft Office\n Xài trước, trả sau 0% lãi suất\n Đặc quyền HSSV, GIÁO VIÊN giảm thêm đến 500.000\n Mua kèm chuột/ bàn phím/ balo/ túi/ tai nghe giảm đến 40%\nHãy tự tin sở hữu Laptop tại Thế Giới Di Động – nơi mỗi chiếc máy tính là chìa khoá, là bệ phóng, là cánh cửa tươi sáng dẫn lối bạn bước vào tương lai. Công nghệ mạnh mẽ để sẵn sàng khởi đầu vượt trội!\n Mua ngay tại: https://www.thegioididong.com/laptop\n---\n Liên hệ tổng đài 1900.232.460 để được tư vấn thêm về chương trình.",
         "4300",
         "57",
         "2",
         "19"
        ],
        [
         "3",
         "https://www.facebook.com/100064878600431/posts/1147413360764607",
         "Thế Giới Di Động (thegioididong.com)",
         "Thế Giới Di Động KHÔNG CHỈ BÁN LAPTOP mà trao cả HÀNH TRANG TƯƠNG LAI!\nTại Thế Giới Di Động, mỗi chiếc Laptop bạn chọn không chỉ là thiết bị – mà còn là người bạn đồng hành để Kiến thức mở rộng, nâng cao Cơ hội nghề nghiệp, khai phá Đam mê\nVới những Ưu Đãi vô cùng Vượt Trội:\n 100% cài sẵn Windows bản quyền\n 100% tặng Microsoft Office\n Xài trước, trả sau 0% lãi suất\n Đặc quyền HSSV, GIÁO VIÊN giảm thêm đến 500.000\n Mua kèm chuột/ bàn phím/ balo/ túi/ tai nghe giảm đến 40%\nHãy tự tin sở hữu Laptop tại Thế Giới Di Động – nơi mỗi chiếc máy tính là chìa khoá, là bệ phóng, là cánh cửa tươi sáng dẫn lối bạn bước vào tương lai. Từ học tập đến khởi nghiệp - Trang bị để dẫn đầu!\n Mua ngay tại: https://www.thegioididong.com/laptop\n---\n Liên hệ tổng đài 1900.232.460 để được tư vấn thêm về chương trình.",
         "4900",
         "67",
         "2",
         "26"
        ],
        [
         "4",
         "https://www.facebook.com/100064878600431/posts/1146548730851070",
         "Thế Giới Di Động (thegioididong.com)",
         "Laptop không chỉ để làm việc, đó là hành trang bắt đầu mọi ước mơ. Bạn không mua laptop mà mua cơ hội để bứt phá. \nMua laptop ở Thế Giới Di Động - mua luôn tương lai Vượt Trội cùng ưu đãi Vượt Trội:\n 100% cài sẵn Windows\n 100% tặng Office bản quyền\n Xài trước, trả sau 0% lãi suất\n Đặc quyền HSSV, GIÁO VIÊN giảm thêm đến 500K.\n Phụ kiện Laptop mua kèm Giảm đến 50%++\nHãy tự tin sở hữu Laptop tại Thế Giới Di Động – nơi mỗi chiếc máy là chìa khoá, là bệ phóng, là cánh cửa tươi sáng dẫn lối bạn bước vào tương lai.\n Mua ngay: https://www.thegioididong.com/laptop\n#thegioididong #laptop \n---\n Liên hệ tổng đài 1900.232.460 để được tư vấn thêm về chương trình.",
         "1600",
         "9",
         "1",
         "4"
        ],
        [
         "5",
         "https://www.facebook.com/100064878600431/posts/1146531914186085",
         "Thế Giới Di Động (thegioididong.com)",
         null,
         "94",
         "20",
         "1",
         "6"
        ],
        [
         "6",
         "https://www.facebook.com/100064878600431/posts/1146529790852964",
         "Thế Giới Di Động (thegioididong.com)",
         "Từ một chiếc laptop – bạn có thể viết nên cả hành trình. Laptop là khởi đầu cho hành trình chinh phục tương lai.\nMua laptop ở Thế Giới Di Động - mua luôn tương lai Vượt Trội cùng ưu đãi Vượt Trội:\n 100% cài sẵn Windows\n 100% tặng Office bản quyền\n Xài trước, trả sau 0% lãi suất\n Đặc quyền HSSV, GIÁO VIÊN giảm thêm đến 500K.\n Phụ kiện Laptop mua kèm Giảm đến 50%++\nHãy tự tin sở hữu Laptop tại Thế Giới Di Động – nơi mỗi chiếc máy là chìa khoá, là bệ phóng, là cánh cửa tươi sáng dẫn lối bạn bước vào tương lai.\n Mua ngay: https://www.thegioididong.com/laptop\n#thegioididong #laptop \n---\n Liên hệ tổng đài 1900.232.460 để được tư vấn thêm về chương trình.",
         "819",
         "31",
         "1",
         "14"
        ],
        [
         "7",
         "https://www.facebook.com/100064878600431/posts/1146504504188826",
         "Thế Giới Di Động (thegioididong.com)",
         "Chính thức từ 1/6/2025 – Thế Giới Di Động KHÔNG BÁN LAPTOP mà bán cả HÀNH TRANG TƯƠNG LAI.\nTại Thế Giới Di Động, mỗi chiếc Laptop bạn chọn không chỉ là thiết bị – mà là người bạn đồng hành để Kiến thức mở rộng, nâng cao Cơ hội nghề nghiệp, khai phá Đam mê.\nVới những Ưu Đãi vô cùng Vượt Trội:\n 100% cài sẵn Windows\n 100% tặng Office bản quyền\n Xài trước, trả sau 0% lãi suất\n Đặc quyền HSSV, GIÁO VIÊN giảm thêm.\n Phụ kiện Laptop mua kèm Giảm đến 50%++\nHãy tự tin sở hữu Laptop tại Thế Giới Di Động – nơi mỗi chiếc máy là chìa khoá, là bệ phóng, là cánh cửa tươi sáng dẫn lối bạn bước vào tương lai.\n Mua ngay: https://www.thegioididong.com/laptop\n#thegioididong #laptop \n---\n Liên hệ tổng đài 1900.232.460 để được tư vấn thêm về chương trình.",
         "1400",
         "236",
         "1",
         "97"
        ],
        [
         "8",
         "https://www.facebook.com/100064878600431/posts/1145328240973119",
         "Thế Giới Di Động (thegioididong.com)",
         "Từ 1/6/2025\nThế Giới Di Động KHÔNG BÁN LAPTOP\nChúng tôi mang đến... một Giá trị Vượt Trội và hơn thế.\nTo be continued",
         "1700",
         "658",
         "30",
         "237"
        ]
       ],
       "shape": {
        "columns": 7,
        "rows": 9
       }
      },
      "text/html": [
       "<div>\n",
       "<style scoped>\n",
       "    .dataframe tbody tr th:only-of-type {\n",
       "        vertical-align: middle;\n",
       "    }\n",
       "\n",
       "    .dataframe tbody tr th {\n",
       "        vertical-align: top;\n",
       "    }\n",
       "\n",
       "    .dataframe thead th {\n",
       "        text-align: right;\n",
       "    }\n",
       "</style>\n",
       "<table border=\"1\" class=\"dataframe\">\n",
       "  <thead>\n",
       "    <tr style=\"text-align: right;\">\n",
       "      <th></th>\n",
       "      <th>url</th>\n",
       "      <th>author</th>\n",
       "      <th>content</th>\n",
       "      <th>reactions_count</th>\n",
       "      <th>comments_count</th>\n",
       "      <th>shares_count</th>\n",
       "      <th>total_comments_crawled</th>\n",
       "    </tr>\n",
       "  </thead>\n",
       "  <tbody>\n",
       "    <tr>\n",
       "      <th>0</th>\n",
       "      <td>https://www.facebook.com/100064878600431/posts...</td>\n",
       "      <td>Thế Giới Di Động (thegioididong.com)</td>\n",
       "      <td>Bạn KHÔNG CHỈ MUA LAPTOP mà mua CƠ HỘI ĐỂ BỨT ...</td>\n",
       "      <td>10000</td>\n",
       "      <td>88</td>\n",
       "      <td>2</td>\n",
       "      <td>26</td>\n",
       "    </tr>\n",
       "    <tr>\n",
       "      <th>1</th>\n",
       "      <td>https://www.facebook.com/100064878600431/posts...</td>\n",
       "      <td>Thế Giới Di Động (thegioididong.com)</td>\n",
       "      <td>NaN</td>\n",
       "      <td>27</td>\n",
       "      <td>0</td>\n",
       "      <td>2</td>\n",
       "      <td>0</td>\n",
       "    </tr>\n",
       "    <tr>\n",
       "      <th>2</th>\n",
       "      <td>https://www.facebook.com/100064878600431/posts...</td>\n",
       "      <td>Thế Giới Di Động (thegioididong.com)</td>\n",
       "      <td>MUA LAPTOP nhận trọn bộ HÀNH TRANG VƯỢT TRỘI!\\...</td>\n",
       "      <td>4300</td>\n",
       "      <td>57</td>\n",
       "      <td>2</td>\n",
       "      <td>19</td>\n",
       "    </tr>\n",
       "    <tr>\n",
       "      <th>3</th>\n",
       "      <td>https://www.facebook.com/100064878600431/posts...</td>\n",
       "      <td>Thế Giới Di Động (thegioididong.com)</td>\n",
       "      <td>Thế Giới Di Động KHÔNG CHỈ BÁN LAPTOP mà trao ...</td>\n",
       "      <td>4900</td>\n",
       "      <td>67</td>\n",
       "      <td>2</td>\n",
       "      <td>26</td>\n",
       "    </tr>\n",
       "    <tr>\n",
       "      <th>4</th>\n",
       "      <td>https://www.facebook.com/100064878600431/posts...</td>\n",
       "      <td>Thế Giới Di Động (thegioididong.com)</td>\n",
       "      <td>Laptop không chỉ để làm việc, đó là hành trang...</td>\n",
       "      <td>1600</td>\n",
       "      <td>9</td>\n",
       "      <td>1</td>\n",
       "      <td>4</td>\n",
       "    </tr>\n",
       "    <tr>\n",
       "      <th>5</th>\n",
       "      <td>https://www.facebook.com/100064878600431/posts...</td>\n",
       "      <td>Thế Giới Di Động (thegioididong.com)</td>\n",
       "      <td>NaN</td>\n",
       "      <td>94</td>\n",
       "      <td>20</td>\n",
       "      <td>1</td>\n",
       "      <td>6</td>\n",
       "    </tr>\n",
       "    <tr>\n",
       "      <th>6</th>\n",
       "      <td>https://www.facebook.com/100064878600431/posts...</td>\n",
       "      <td>Thế Giới Di Động (thegioididong.com)</td>\n",
       "      <td>Từ một chiếc laptop – bạn có thể viết nên cả h...</td>\n",
       "      <td>819</td>\n",
       "      <td>31</td>\n",
       "      <td>1</td>\n",
       "      <td>14</td>\n",
       "    </tr>\n",
       "    <tr>\n",
       "      <th>7</th>\n",
       "      <td>https://www.facebook.com/100064878600431/posts...</td>\n",
       "      <td>Thế Giới Di Động (thegioididong.com)</td>\n",
       "      <td>Chính thức từ 1/6/2025 – Thế Giới Di Động KHÔN...</td>\n",
       "      <td>1400</td>\n",
       "      <td>236</td>\n",
       "      <td>1</td>\n",
       "      <td>97</td>\n",
       "    </tr>\n",
       "    <tr>\n",
       "      <th>8</th>\n",
       "      <td>https://www.facebook.com/100064878600431/posts...</td>\n",
       "      <td>Thế Giới Di Động (thegioididong.com)</td>\n",
       "      <td>Từ 1/6/2025\\nThế Giới Di Động KHÔNG BÁN LAPTOP...</td>\n",
       "      <td>1700</td>\n",
       "      <td>658</td>\n",
       "      <td>30</td>\n",
       "      <td>237</td>\n",
       "    </tr>\n",
       "  </tbody>\n",
       "</table>\n",
       "</div>"
      ],
      "text/plain": [
       "                                                 url  \\\n",
       "0  https://www.facebook.com/100064878600431/posts...   \n",
       "1  https://www.facebook.com/100064878600431/posts...   \n",
       "2  https://www.facebook.com/100064878600431/posts...   \n",
       "3  https://www.facebook.com/100064878600431/posts...   \n",
       "4  https://www.facebook.com/100064878600431/posts...   \n",
       "5  https://www.facebook.com/100064878600431/posts...   \n",
       "6  https://www.facebook.com/100064878600431/posts...   \n",
       "7  https://www.facebook.com/100064878600431/posts...   \n",
       "8  https://www.facebook.com/100064878600431/posts...   \n",
       "\n",
       "                                 author  \\\n",
       "0  Thế Giới Di Động (thegioididong.com)   \n",
       "1  Thế Giới Di Động (thegioididong.com)   \n",
       "2  Thế Giới Di Động (thegioididong.com)   \n",
       "3  Thế Giới Di Động (thegioididong.com)   \n",
       "4  Thế Giới Di Động (thegioididong.com)   \n",
       "5  Thế Giới Di Động (thegioididong.com)   \n",
       "6  Thế Giới Di Động (thegioididong.com)   \n",
       "7  Thế Giới Di Động (thegioididong.com)   \n",
       "8  Thế Giới Di Động (thegioididong.com)   \n",
       "\n",
       "                                             content  reactions_count  \\\n",
       "0  Bạn KHÔNG CHỈ MUA LAPTOP mà mua CƠ HỘI ĐỂ BỨT ...            10000   \n",
       "1                                                NaN               27   \n",
       "2  MUA LAPTOP nhận trọn bộ HÀNH TRANG VƯỢT TRỘI!\\...             4300   \n",
       "3  Thế Giới Di Động KHÔNG CHỈ BÁN LAPTOP mà trao ...             4900   \n",
       "4  Laptop không chỉ để làm việc, đó là hành trang...             1600   \n",
       "5                                                NaN               94   \n",
       "6  Từ một chiếc laptop – bạn có thể viết nên cả h...              819   \n",
       "7  Chính thức từ 1/6/2025 – Thế Giới Di Động KHÔN...             1400   \n",
       "8  Từ 1/6/2025\\nThế Giới Di Động KHÔNG BÁN LAPTOP...             1700   \n",
       "\n",
       "   comments_count  shares_count  total_comments_crawled  \n",
       "0              88             2                      26  \n",
       "1               0             2                       0  \n",
       "2              57             2                      19  \n",
       "3              67             2                      26  \n",
       "4               9             1                       4  \n",
       "5              20             1                       6  \n",
       "6              31             1                      14  \n",
       "7             236             1                      97  \n",
       "8             658            30                     237  "
      ]
     },
     "execution_count": 44,
     "metadata": {},
     "output_type": "execute_result"
    }
   ],
   "source": [
    "df_post = pd.read_csv('../data/crawl/facebook_posts.csv')\n",
    "df_post"
   ]
  },
  {
   "cell_type": "code",
   "execution_count": 45,
   "id": "1c8d6513",
   "metadata": {},
   "outputs": [
    {
     "data": {
      "application/vnd.microsoft.datawrangler.viewer.v0+json": {
       "columns": [
        {
         "name": "index",
         "rawType": "object",
         "type": "string"
        },
        {
         "name": "0",
         "rawType": "int64",
         "type": "integer"
        }
       ],
       "ref": "2e6bedee-536e-4ad9-95d8-8268f8898dcc",
       "rows": [
        [
         "url",
         "0"
        ],
        [
         "author",
         "0"
        ],
        [
         "content",
         "2"
        ],
        [
         "reactions_count",
         "0"
        ],
        [
         "comments_count",
         "0"
        ],
        [
         "shares_count",
         "0"
        ],
        [
         "total_comments_crawled",
         "0"
        ]
       ],
       "shape": {
        "columns": 1,
        "rows": 7
       }
      },
      "text/plain": [
       "url                       0\n",
       "author                    0\n",
       "content                   2\n",
       "reactions_count           0\n",
       "comments_count            0\n",
       "shares_count              0\n",
       "total_comments_crawled    0\n",
       "dtype: int64"
      ]
     },
     "execution_count": 45,
     "metadata": {},
     "output_type": "execute_result"
    }
   ],
   "source": [
    "df_post.isnull().sum()"
   ]
  },
  {
   "cell_type": "code",
   "execution_count": 46,
   "id": "89bf9dc5",
   "metadata": {},
   "outputs": [
    {
     "data": {
      "application/vnd.microsoft.datawrangler.viewer.v0+json": {
       "columns": [
        {
         "name": "index",
         "rawType": "int64",
         "type": "integer"
        },
        {
         "name": "url",
         "rawType": "object",
         "type": "string"
        },
        {
         "name": "author",
         "rawType": "object",
         "type": "string"
        },
        {
         "name": "content",
         "rawType": "object",
         "type": "string"
        },
        {
         "name": "reactions_count",
         "rawType": "int64",
         "type": "integer"
        },
        {
         "name": "comments_count",
         "rawType": "int64",
         "type": "integer"
        },
        {
         "name": "shares_count",
         "rawType": "int64",
         "type": "integer"
        },
        {
         "name": "total_comments_crawled",
         "rawType": "int64",
         "type": "integer"
        },
        {
         "name": "total_engagement",
         "rawType": "int64",
         "type": "integer"
        }
       ],
       "ref": "b2a491db-9771-46be-b03e-e1360e2d207f",
       "rows": [
        [
         "0",
         "https://www.facebook.com/100064878600431/posts/1147451870760756",
         "Thế Giới Di Động (thegioididong.com)",
         "Bạn KHÔNG CHỈ MUA LAPTOP mà mua CƠ HỘI ĐỂ BỨT PHÁ!\nTại Thế Giới Di Động, mỗi chiếc Laptop bạn chọn không chỉ là thiết bị – mà còn là người bạn đồng hành để Kiến thức mở rộng, nâng cao Cơ hội nghề nghiệp, khai phá Đam mê.\nVới những Ưu Đãi vô cùng Vượt Trội:\n 100% cài sẵn Windows bản quyền\n 100% tặng Microsoft Office\n Xài trước, trả sau 0% lãi suất\n Đặc quyền HSSV, GIÁO VIÊN giảm thêm đến 500.000\n Mua kèm chuột/ bàn phím/ balo/ túi/ tai nghe giảm đến 40%\nHãy tự tin sở hữu Laptop tại Thế Giới Di Động – nơi mỗi chiếc máy tính là chìa khoá, là bệ phóng, là cánh cửa tươi sáng dẫn lối bạn bước vào tương lai. Hiệu năng đỉnh, ưu đãi chất, đồng hành cùng bứt phá!\n Mua ngay tại: https://www.thegioididong.com/laptop\n---\n Liên hệ tổng đài 1900.232.460 để được tư vấn thêm về chương trình.",
         "10000",
         "88",
         "2",
         "26",
         "10090"
        ],
        [
         "1",
         "https://www.facebook.com/100064878600431/posts/1147447477427862",
         "Thế Giới Di Động (thegioididong.com)",
         "Cập nhật ảnh bìa",
         "27",
         "0",
         "2",
         "0",
         "29"
        ],
        [
         "2",
         "https://www.facebook.com/100064878600431/posts/1147436614095615",
         "Thế Giới Di Động (thegioididong.com)",
         "MUA LAPTOP nhận trọn bộ HÀNH TRANG VƯỢT TRỘI!\nTại Thế Giới Di Động, mỗi chiếc Laptop bạn chọn không chỉ là thiết bị – mà còn là người bạn đồng hành để Kiến thức mở rộng, nâng cao Cơ hội nghề nghiệp, khai phá Đam mê.\nVới những Ưu Đãi vô cùng Vượt Trội:\n 100% cài sẵn Windows bản quyền\n 100% tặng Microsoft Office\n Xài trước, trả sau 0% lãi suất\n Đặc quyền HSSV, GIÁO VIÊN giảm thêm đến 500.000\n Mua kèm chuột/ bàn phím/ balo/ túi/ tai nghe giảm đến 40%\nHãy tự tin sở hữu Laptop tại Thế Giới Di Động – nơi mỗi chiếc máy tính là chìa khoá, là bệ phóng, là cánh cửa tươi sáng dẫn lối bạn bước vào tương lai. Công nghệ mạnh mẽ để sẵn sàng khởi đầu vượt trội!\n Mua ngay tại: https://www.thegioididong.com/laptop\n---\n Liên hệ tổng đài 1900.232.460 để được tư vấn thêm về chương trình.",
         "4300",
         "57",
         "2",
         "19",
         "4359"
        ],
        [
         "3",
         "https://www.facebook.com/100064878600431/posts/1147413360764607",
         "Thế Giới Di Động (thegioididong.com)",
         "Thế Giới Di Động KHÔNG CHỈ BÁN LAPTOP mà trao cả HÀNH TRANG TƯƠNG LAI!\nTại Thế Giới Di Động, mỗi chiếc Laptop bạn chọn không chỉ là thiết bị – mà còn là người bạn đồng hành để Kiến thức mở rộng, nâng cao Cơ hội nghề nghiệp, khai phá Đam mê\nVới những Ưu Đãi vô cùng Vượt Trội:\n 100% cài sẵn Windows bản quyền\n 100% tặng Microsoft Office\n Xài trước, trả sau 0% lãi suất\n Đặc quyền HSSV, GIÁO VIÊN giảm thêm đến 500.000\n Mua kèm chuột/ bàn phím/ balo/ túi/ tai nghe giảm đến 40%\nHãy tự tin sở hữu Laptop tại Thế Giới Di Động – nơi mỗi chiếc máy tính là chìa khoá, là bệ phóng, là cánh cửa tươi sáng dẫn lối bạn bước vào tương lai. Từ học tập đến khởi nghiệp - Trang bị để dẫn đầu!\n Mua ngay tại: https://www.thegioididong.com/laptop\n---\n Liên hệ tổng đài 1900.232.460 để được tư vấn thêm về chương trình.",
         "4900",
         "67",
         "2",
         "26",
         "4969"
        ],
        [
         "4",
         "https://www.facebook.com/100064878600431/posts/1146548730851070",
         "Thế Giới Di Động (thegioididong.com)",
         "Laptop không chỉ để làm việc, đó là hành trang bắt đầu mọi ước mơ. Bạn không mua laptop mà mua cơ hội để bứt phá. \nMua laptop ở Thế Giới Di Động - mua luôn tương lai Vượt Trội cùng ưu đãi Vượt Trội:\n 100% cài sẵn Windows\n 100% tặng Office bản quyền\n Xài trước, trả sau 0% lãi suất\n Đặc quyền HSSV, GIÁO VIÊN giảm thêm đến 500K.\n Phụ kiện Laptop mua kèm Giảm đến 50%++\nHãy tự tin sở hữu Laptop tại Thế Giới Di Động – nơi mỗi chiếc máy là chìa khoá, là bệ phóng, là cánh cửa tươi sáng dẫn lối bạn bước vào tương lai.\n Mua ngay: https://www.thegioididong.com/laptop\n#thegioididong #laptop \n---\n Liên hệ tổng đài 1900.232.460 để được tư vấn thêm về chương trình.",
         "1600",
         "9",
         "1",
         "4",
         "1610"
        ],
        [
         "5",
         "https://www.facebook.com/100064878600431/posts/1146531914186085",
         "Thế Giới Di Động (thegioididong.com)",
         "Cập nhật ảnh bìa",
         "94",
         "20",
         "1",
         "6",
         "115"
        ],
        [
         "6",
         "https://www.facebook.com/100064878600431/posts/1146529790852964",
         "Thế Giới Di Động (thegioididong.com)",
         "Từ một chiếc laptop – bạn có thể viết nên cả hành trình. Laptop là khởi đầu cho hành trình chinh phục tương lai.\nMua laptop ở Thế Giới Di Động - mua luôn tương lai Vượt Trội cùng ưu đãi Vượt Trội:\n 100% cài sẵn Windows\n 100% tặng Office bản quyền\n Xài trước, trả sau 0% lãi suất\n Đặc quyền HSSV, GIÁO VIÊN giảm thêm đến 500K.\n Phụ kiện Laptop mua kèm Giảm đến 50%++\nHãy tự tin sở hữu Laptop tại Thế Giới Di Động – nơi mỗi chiếc máy là chìa khoá, là bệ phóng, là cánh cửa tươi sáng dẫn lối bạn bước vào tương lai.\n Mua ngay: https://www.thegioididong.com/laptop\n#thegioididong #laptop \n---\n Liên hệ tổng đài 1900.232.460 để được tư vấn thêm về chương trình.",
         "819",
         "31",
         "1",
         "14",
         "851"
        ],
        [
         "7",
         "https://www.facebook.com/100064878600431/posts/1146504504188826",
         "Thế Giới Di Động (thegioididong.com)",
         "Chính thức từ 1/6/2025 – Thế Giới Di Động KHÔNG BÁN LAPTOP mà bán cả HÀNH TRANG TƯƠNG LAI.\nTại Thế Giới Di Động, mỗi chiếc Laptop bạn chọn không chỉ là thiết bị – mà là người bạn đồng hành để Kiến thức mở rộng, nâng cao Cơ hội nghề nghiệp, khai phá Đam mê.\nVới những Ưu Đãi vô cùng Vượt Trội:\n 100% cài sẵn Windows\n 100% tặng Office bản quyền\n Xài trước, trả sau 0% lãi suất\n Đặc quyền HSSV, GIÁO VIÊN giảm thêm.\n Phụ kiện Laptop mua kèm Giảm đến 50%++\nHãy tự tin sở hữu Laptop tại Thế Giới Di Động – nơi mỗi chiếc máy là chìa khoá, là bệ phóng, là cánh cửa tươi sáng dẫn lối bạn bước vào tương lai.\n Mua ngay: https://www.thegioididong.com/laptop\n#thegioididong #laptop \n---\n Liên hệ tổng đài 1900.232.460 để được tư vấn thêm về chương trình.",
         "1400",
         "236",
         "1",
         "97",
         "1637"
        ],
        [
         "8",
         "https://www.facebook.com/100064878600431/posts/1145328240973119",
         "Thế Giới Di Động (thegioididong.com)",
         "Từ 1/6/2025\nThế Giới Di Động KHÔNG BÁN LAPTOP\nChúng tôi mang đến... một Giá trị Vượt Trội và hơn thế.\nTo be continued",
         "1700",
         "658",
         "30",
         "237",
         "2388"
        ]
       ],
       "shape": {
        "columns": 8,
        "rows": 9
       }
      },
      "text/html": [
       "<div>\n",
       "<style scoped>\n",
       "    .dataframe tbody tr th:only-of-type {\n",
       "        vertical-align: middle;\n",
       "    }\n",
       "\n",
       "    .dataframe tbody tr th {\n",
       "        vertical-align: top;\n",
       "    }\n",
       "\n",
       "    .dataframe thead th {\n",
       "        text-align: right;\n",
       "    }\n",
       "</style>\n",
       "<table border=\"1\" class=\"dataframe\">\n",
       "  <thead>\n",
       "    <tr style=\"text-align: right;\">\n",
       "      <th></th>\n",
       "      <th>url</th>\n",
       "      <th>author</th>\n",
       "      <th>content</th>\n",
       "      <th>reactions_count</th>\n",
       "      <th>comments_count</th>\n",
       "      <th>shares_count</th>\n",
       "      <th>total_comments_crawled</th>\n",
       "      <th>total_engagement</th>\n",
       "    </tr>\n",
       "  </thead>\n",
       "  <tbody>\n",
       "    <tr>\n",
       "      <th>0</th>\n",
       "      <td>https://www.facebook.com/100064878600431/posts...</td>\n",
       "      <td>Thế Giới Di Động (thegioididong.com)</td>\n",
       "      <td>Bạn KHÔNG CHỈ MUA LAPTOP mà mua CƠ HỘI ĐỂ BỨT ...</td>\n",
       "      <td>10000</td>\n",
       "      <td>88</td>\n",
       "      <td>2</td>\n",
       "      <td>26</td>\n",
       "      <td>10090</td>\n",
       "    </tr>\n",
       "    <tr>\n",
       "      <th>1</th>\n",
       "      <td>https://www.facebook.com/100064878600431/posts...</td>\n",
       "      <td>Thế Giới Di Động (thegioididong.com)</td>\n",
       "      <td>Cập nhật ảnh bìa</td>\n",
       "      <td>27</td>\n",
       "      <td>0</td>\n",
       "      <td>2</td>\n",
       "      <td>0</td>\n",
       "      <td>29</td>\n",
       "    </tr>\n",
       "    <tr>\n",
       "      <th>2</th>\n",
       "      <td>https://www.facebook.com/100064878600431/posts...</td>\n",
       "      <td>Thế Giới Di Động (thegioididong.com)</td>\n",
       "      <td>MUA LAPTOP nhận trọn bộ HÀNH TRANG VƯỢT TRỘI!\\...</td>\n",
       "      <td>4300</td>\n",
       "      <td>57</td>\n",
       "      <td>2</td>\n",
       "      <td>19</td>\n",
       "      <td>4359</td>\n",
       "    </tr>\n",
       "    <tr>\n",
       "      <th>3</th>\n",
       "      <td>https://www.facebook.com/100064878600431/posts...</td>\n",
       "      <td>Thế Giới Di Động (thegioididong.com)</td>\n",
       "      <td>Thế Giới Di Động KHÔNG CHỈ BÁN LAPTOP mà trao ...</td>\n",
       "      <td>4900</td>\n",
       "      <td>67</td>\n",
       "      <td>2</td>\n",
       "      <td>26</td>\n",
       "      <td>4969</td>\n",
       "    </tr>\n",
       "    <tr>\n",
       "      <th>4</th>\n",
       "      <td>https://www.facebook.com/100064878600431/posts...</td>\n",
       "      <td>Thế Giới Di Động (thegioididong.com)</td>\n",
       "      <td>Laptop không chỉ để làm việc, đó là hành trang...</td>\n",
       "      <td>1600</td>\n",
       "      <td>9</td>\n",
       "      <td>1</td>\n",
       "      <td>4</td>\n",
       "      <td>1610</td>\n",
       "    </tr>\n",
       "    <tr>\n",
       "      <th>5</th>\n",
       "      <td>https://www.facebook.com/100064878600431/posts...</td>\n",
       "      <td>Thế Giới Di Động (thegioididong.com)</td>\n",
       "      <td>Cập nhật ảnh bìa</td>\n",
       "      <td>94</td>\n",
       "      <td>20</td>\n",
       "      <td>1</td>\n",
       "      <td>6</td>\n",
       "      <td>115</td>\n",
       "    </tr>\n",
       "    <tr>\n",
       "      <th>6</th>\n",
       "      <td>https://www.facebook.com/100064878600431/posts...</td>\n",
       "      <td>Thế Giới Di Động (thegioididong.com)</td>\n",
       "      <td>Từ một chiếc laptop – bạn có thể viết nên cả h...</td>\n",
       "      <td>819</td>\n",
       "      <td>31</td>\n",
       "      <td>1</td>\n",
       "      <td>14</td>\n",
       "      <td>851</td>\n",
       "    </tr>\n",
       "    <tr>\n",
       "      <th>7</th>\n",
       "      <td>https://www.facebook.com/100064878600431/posts...</td>\n",
       "      <td>Thế Giới Di Động (thegioididong.com)</td>\n",
       "      <td>Chính thức từ 1/6/2025 – Thế Giới Di Động KHÔN...</td>\n",
       "      <td>1400</td>\n",
       "      <td>236</td>\n",
       "      <td>1</td>\n",
       "      <td>97</td>\n",
       "      <td>1637</td>\n",
       "    </tr>\n",
       "    <tr>\n",
       "      <th>8</th>\n",
       "      <td>https://www.facebook.com/100064878600431/posts...</td>\n",
       "      <td>Thế Giới Di Động (thegioididong.com)</td>\n",
       "      <td>Từ 1/6/2025\\nThế Giới Di Động KHÔNG BÁN LAPTOP...</td>\n",
       "      <td>1700</td>\n",
       "      <td>658</td>\n",
       "      <td>30</td>\n",
       "      <td>237</td>\n",
       "      <td>2388</td>\n",
       "    </tr>\n",
       "  </tbody>\n",
       "</table>\n",
       "</div>"
      ],
      "text/plain": [
       "                                                 url  \\\n",
       "0  https://www.facebook.com/100064878600431/posts...   \n",
       "1  https://www.facebook.com/100064878600431/posts...   \n",
       "2  https://www.facebook.com/100064878600431/posts...   \n",
       "3  https://www.facebook.com/100064878600431/posts...   \n",
       "4  https://www.facebook.com/100064878600431/posts...   \n",
       "5  https://www.facebook.com/100064878600431/posts...   \n",
       "6  https://www.facebook.com/100064878600431/posts...   \n",
       "7  https://www.facebook.com/100064878600431/posts...   \n",
       "8  https://www.facebook.com/100064878600431/posts...   \n",
       "\n",
       "                                 author  \\\n",
       "0  Thế Giới Di Động (thegioididong.com)   \n",
       "1  Thế Giới Di Động (thegioididong.com)   \n",
       "2  Thế Giới Di Động (thegioididong.com)   \n",
       "3  Thế Giới Di Động (thegioididong.com)   \n",
       "4  Thế Giới Di Động (thegioididong.com)   \n",
       "5  Thế Giới Di Động (thegioididong.com)   \n",
       "6  Thế Giới Di Động (thegioididong.com)   \n",
       "7  Thế Giới Di Động (thegioididong.com)   \n",
       "8  Thế Giới Di Động (thegioididong.com)   \n",
       "\n",
       "                                             content  reactions_count  \\\n",
       "0  Bạn KHÔNG CHỈ MUA LAPTOP mà mua CƠ HỘI ĐỂ BỨT ...            10000   \n",
       "1                                   Cập nhật ảnh bìa               27   \n",
       "2  MUA LAPTOP nhận trọn bộ HÀNH TRANG VƯỢT TRỘI!\\...             4300   \n",
       "3  Thế Giới Di Động KHÔNG CHỈ BÁN LAPTOP mà trao ...             4900   \n",
       "4  Laptop không chỉ để làm việc, đó là hành trang...             1600   \n",
       "5                                   Cập nhật ảnh bìa               94   \n",
       "6  Từ một chiếc laptop – bạn có thể viết nên cả h...              819   \n",
       "7  Chính thức từ 1/6/2025 – Thế Giới Di Động KHÔN...             1400   \n",
       "8  Từ 1/6/2025\\nThế Giới Di Động KHÔNG BÁN LAPTOP...             1700   \n",
       "\n",
       "   comments_count  shares_count  total_comments_crawled  total_engagement  \n",
       "0              88             2                      26             10090  \n",
       "1               0             2                       0                29  \n",
       "2              57             2                      19              4359  \n",
       "3              67             2                      26              4969  \n",
       "4               9             1                       4              1610  \n",
       "5              20             1                       6               115  \n",
       "6              31             1                      14               851  \n",
       "7             236             1                      97              1637  \n",
       "8             658            30                     237              2388  "
      ]
     },
     "execution_count": 46,
     "metadata": {},
     "output_type": "execute_result"
    }
   ],
   "source": [
    "df_post.loc[df_post['content'].isna(), 'content'] = (\n",
    "    \"Cập nhật ảnh bìa\"\n",
    ")\n",
    "\n",
    "df_post['total_engagement'] = (\n",
    "    df_post['reactions_count'] +\n",
    "    df_post['shares_count'] +\n",
    "    df_post['comments_count']\n",
    ")\n",
    "\n",
    "df_post"
   ]
  },
  {
   "cell_type": "code",
   "execution_count": 47,
   "id": "50bf5d17",
   "metadata": {},
   "outputs": [],
   "source": [
    "df_post.to_csv('../data/processed/facebook_posts_processed.csv', index=False)"
   ]
  },
  {
   "cell_type": "markdown",
   "id": "c75f1add",
   "metadata": {},
   "source": [
    "# Xử lý `facebook_comments.csv`"
   ]
  },
  {
   "cell_type": "code",
   "execution_count": 48,
   "id": "8a8194c0",
   "metadata": {},
   "outputs": [
    {
     "data": {
      "application/vnd.microsoft.datawrangler.viewer.v0+json": {
       "columns": [
        {
         "name": "index",
         "rawType": "int64",
         "type": "integer"
        },
        {
         "name": "url",
         "rawType": "object",
         "type": "string"
        },
        {
         "name": "comment_text",
         "rawType": "object",
         "type": "string"
        }
       ],
       "ref": "3f7dfd4f-bda4-4882-a763-045d7623aca3",
       "rows": [
        [
         "0",
         "https://www.facebook.com/100064878600431/posts/1147451870760756",
         "Em xin chúc anh mạnh khỏe vui vẻ thành công"
        ],
        [
         "1",
         "https://www.facebook.com/100064878600431/posts/1147451870760756",
         "Em xin anh chị bỏ qua giúp em"
        ],
        [
         "2",
         "https://www.facebook.com/100064878600431/posts/1147451870760756",
         "Em xin cảm ơn mến Đức"
        ],
        [
         "3",
         "https://www.facebook.com/100064878600431/posts/1147451870760756",
         "36 16 56 96. Dem xac mai moi san . DATA ? xac. Liem giay tao nhe xac mai moi san."
        ],
        [
         "4",
         "https://www.facebook.com/100064878600431/posts/1147451870760756",
         " ❤️"
        ],
        [
         "5",
         "https://www.facebook.com/100064878600431/posts/1147451870760756",
         "Rất tuyệt vời"
        ],
        [
         "6",
         "https://www.facebook.com/100064878600431/posts/1147451870760756",
         "Iphone 14prm"
        ],
        [
         "7",
         "https://www.facebook.com/100064878600431/posts/1147451870760756",
         "Hi"
        ],
        [
         "8",
         "https://www.facebook.com/100064878600431/posts/1147451870760756",
         "Mua laptop"
        ],
        [
         "9",
         "https://www.facebook.com/100064878600431/posts/1147451870760756",
         "Mua laptop"
        ],
        [
         "10",
         "https://www.facebook.com/100064878600431/posts/1147451870760756",
         "Ko thêm chữ còn sau chữ “mà” đc à"
        ],
        [
         "11",
         "https://www.facebook.com/100064878600431/posts/1147451870760756",
         "https://vt.tiktok.com/ZSkjuEWyq/"
        ],
        [
         "12",
         "https://www.facebook.com/100064878600431/posts/1147451870760756",
         "Tự hào về bạn quá, cố gắng phát huy nhé!"
        ],
        [
         "13",
         "https://www.facebook.com/100064878600431/posts/1147451870760756",
         " ❤️"
        ],
        [
         "14",
         "https://www.facebook.com/100064878600431/posts/1147451870760756",
         "Mọi chuyện rồi sẽ ổn, đừng lo quá!"
        ],
        [
         "15",
         "https://www.facebook.com/100064878600431/posts/1147451870760756",
         " 👍"
        ],
        [
         "16",
         "https://www.facebook.com/100064878600431/posts/1147451870760756",
         "Xac ? Data ?"
        ],
        [
         "17",
         "https://www.facebook.com/100064878600431/posts/1147451870760756",
         " ❤️"
        ],
        [
         "18",
         "https://www.facebook.com/100064878600431/posts/1147451870760756",
         " 🫶 🫶 🫶"
        ],
        [
         "19",
         "https://www.facebook.com/100064878600431/posts/1147451870760756",
         "xin chào"
        ],
        [
         "20",
         "https://www.facebook.com/100064878600431/posts/1147451870760756",
         "Tt"
        ],
        [
         "21",
         "https://www.facebook.com/100064878600431/posts/1147451870760756",
         "hello"
        ],
        [
         "22",
         "https://www.facebook.com/100064878600431/posts/1147451870760756",
         "xinn chàoo"
        ],
        [
         "23",
         "https://www.facebook.com/100064878600431/posts/1147451870760756",
         "xinn chàoo"
        ],
        [
         "24",
         "https://www.facebook.com/100064878600431/posts/1147451870760756",
         "Ok"
        ],
        [
         "25",
         "https://www.facebook.com/100064878600431/posts/1147451870760756",
         "\"Must-have item\" được săn lùng nhiều nhất! Chính là [tai nghe Airpods Pro rep 1:1]: https://vt.tiktok.com/ZSk1Hp6Jc/ 👍"
        ],
        [
         "26",
         "https://www.facebook.com/100064878600431/posts/1147436614095615",
         "Bữa tưởng ngưng bán lap rồi chứ"
        ],
        [
         "27",
         "https://www.facebook.com/100064878600431/posts/1147436614095615",
         "Rất tuyệt vời"
        ],
        [
         "28",
         "https://www.facebook.com/100064878600431/posts/1147436614095615",
         "Rất tuyệt"
        ],
        [
         "29",
         "https://www.facebook.com/100064878600431/posts/1147436614095615",
         "Rây tuyệt đẹp"
        ],
        [
         "30",
         "https://www.facebook.com/100064878600431/posts/1147436614095615",
         "Rất tuyệt vời"
        ],
        [
         "31",
         "https://www.facebook.com/100064878600431/posts/1147436614095615",
         "Còn laptop 9.990.000 ko ạ"
        ],
        [
         "32",
         "https://www.facebook.com/100064878600431/posts/1147436614095615",
         "Rất tuyệt vời"
        ],
        [
         "33",
         "https://www.facebook.com/100064878600431/posts/1147436614095615",
         "Mua tầm 8 triệu tư vấn cho em"
        ],
        [
         "34",
         "https://www.facebook.com/100064878600431/posts/1147436614095615",
         "Mua laptop"
        ],
        [
         "35",
         "https://www.facebook.com/100064878600431/posts/1147436614095615",
         "PpĐ"
        ],
        [
         "36",
         "https://www.facebook.com/100064878600431/posts/1147436614095615",
         "M.m"
        ],
        [
         "37",
         "https://www.facebook.com/100064878600431/posts/1147436614095615",
         "I'm Nguyen Lam Hong Ngoc. Ngoctoi"
        ],
        [
         "38",
         "https://www.facebook.com/100064878600431/posts/1147436614095615",
         "Hấp dẫn!"
        ],
        [
         "39",
         "https://www.facebook.com/100064878600431/posts/1147436614095615",
         " ❤️"
        ],
        [
         "40",
         "https://www.facebook.com/100064878600431/posts/1147436614095615",
         "Mua laptop"
        ],
        [
         "41",
         "https://www.facebook.com/100064878600431/posts/1147436614095615",
         "hello"
        ],
        [
         "42",
         "https://www.facebook.com/100064878600431/posts/1147436614095615",
         "hj"
        ],
        [
         "43",
         "https://www.facebook.com/100064878600431/posts/1147436614095615",
         "Ok"
        ],
        [
         "44",
         "https://www.facebook.com/100064878600431/posts/1147436614095615",
         "woww"
        ],
        [
         "45",
         "https://www.facebook.com/100064878600431/posts/1147413360764607",
         "10 đỉm cho team vì biết nghe lời 🤣"
        ],
        [
         "46",
         "https://www.facebook.com/100064878600431/posts/1147413360764607",
         "Đổi content rồi à :)) nhưng vẫn vote đuổi việc team content, team mkt nhé. Tập đoàn lớn mà sao content vcll"
        ],
        [
         "47",
         "https://www.facebook.com/100064878600431/posts/1147413360764607",
         "Ủa sao hôm trước nói không bán, làm đi đồn quá trời quá đất"
        ],
        [
         "48",
         "https://www.facebook.com/100064878600431/posts/1147413360764607",
         "Rất tuyệt vời"
        ],
        [
         "49",
         "https://www.facebook.com/100064878600431/posts/1147413360764607",
         "Túm lại là bán cái gì"
        ]
       ],
       "shape": {
        "columns": 2,
        "rows": 429
       }
      },
      "text/html": [
       "<div>\n",
       "<style scoped>\n",
       "    .dataframe tbody tr th:only-of-type {\n",
       "        vertical-align: middle;\n",
       "    }\n",
       "\n",
       "    .dataframe tbody tr th {\n",
       "        vertical-align: top;\n",
       "    }\n",
       "\n",
       "    .dataframe thead th {\n",
       "        text-align: right;\n",
       "    }\n",
       "</style>\n",
       "<table border=\"1\" class=\"dataframe\">\n",
       "  <thead>\n",
       "    <tr style=\"text-align: right;\">\n",
       "      <th></th>\n",
       "      <th>url</th>\n",
       "      <th>comment_text</th>\n",
       "    </tr>\n",
       "  </thead>\n",
       "  <tbody>\n",
       "    <tr>\n",
       "      <th>0</th>\n",
       "      <td>https://www.facebook.com/100064878600431/posts...</td>\n",
       "      <td>Em xin chúc anh mạnh khỏe vui vẻ thành công</td>\n",
       "    </tr>\n",
       "    <tr>\n",
       "      <th>1</th>\n",
       "      <td>https://www.facebook.com/100064878600431/posts...</td>\n",
       "      <td>Em xin anh chị bỏ qua giúp em</td>\n",
       "    </tr>\n",
       "    <tr>\n",
       "      <th>2</th>\n",
       "      <td>https://www.facebook.com/100064878600431/posts...</td>\n",
       "      <td>Em xin cảm ơn mến Đức</td>\n",
       "    </tr>\n",
       "    <tr>\n",
       "      <th>3</th>\n",
       "      <td>https://www.facebook.com/100064878600431/posts...</td>\n",
       "      <td>36 16 56 96. Dem xac mai moi san . DATA ? xac....</td>\n",
       "    </tr>\n",
       "    <tr>\n",
       "      <th>4</th>\n",
       "      <td>https://www.facebook.com/100064878600431/posts...</td>\n",
       "      <td>❤️</td>\n",
       "    </tr>\n",
       "    <tr>\n",
       "      <th>...</th>\n",
       "      <td>...</td>\n",
       "      <td>...</td>\n",
       "    </tr>\n",
       "    <tr>\n",
       "      <th>424</th>\n",
       "      <td>https://www.facebook.com/100064878600431/posts...</td>\n",
       "      <td>Hết ý tưởng r à ad 🤣</td>\n",
       "    </tr>\n",
       "    <tr>\n",
       "      <th>425</th>\n",
       "      <td>https://www.facebook.com/100064878600431/posts...</td>\n",
       "      <td>À nay Tgdđ không bán laptop nữa, ae chuyển qua...</td>\n",
       "    </tr>\n",
       "    <tr>\n",
       "      <th>426</th>\n",
       "      <td>https://www.facebook.com/100064878600431/posts...</td>\n",
       "      <td>😀 😀</td>\n",
       "    </tr>\n",
       "    <tr>\n",
       "      <th>427</th>\n",
       "      <td>https://www.facebook.com/100064878600431/posts...</td>\n",
       "      <td>❤️</td>\n",
       "    </tr>\n",
       "    <tr>\n",
       "      <th>428</th>\n",
       "      <td>https://www.facebook.com/100064878600431/posts...</td>\n",
       "      <td>Không bán thì thôi, thiếu gì chỗ mua 🤨</td>\n",
       "    </tr>\n",
       "  </tbody>\n",
       "</table>\n",
       "<p>429 rows × 2 columns</p>\n",
       "</div>"
      ],
      "text/plain": [
       "                                                   url  \\\n",
       "0    https://www.facebook.com/100064878600431/posts...   \n",
       "1    https://www.facebook.com/100064878600431/posts...   \n",
       "2    https://www.facebook.com/100064878600431/posts...   \n",
       "3    https://www.facebook.com/100064878600431/posts...   \n",
       "4    https://www.facebook.com/100064878600431/posts...   \n",
       "..                                                 ...   \n",
       "424  https://www.facebook.com/100064878600431/posts...   \n",
       "425  https://www.facebook.com/100064878600431/posts...   \n",
       "426  https://www.facebook.com/100064878600431/posts...   \n",
       "427  https://www.facebook.com/100064878600431/posts...   \n",
       "428  https://www.facebook.com/100064878600431/posts...   \n",
       "\n",
       "                                          comment_text  \n",
       "0          Em xin chúc anh mạnh khỏe vui vẻ thành công  \n",
       "1                        Em xin anh chị bỏ qua giúp em  \n",
       "2                                Em xin cảm ơn mến Đức  \n",
       "3    36 16 56 96. Dem xac mai moi san . DATA ? xac....  \n",
       "4                                                   ❤️  \n",
       "..                                                 ...  \n",
       "424                               Hết ý tưởng r à ad 🤣  \n",
       "425  À nay Tgdđ không bán laptop nữa, ae chuyển qua...  \n",
       "426                                                😀 😀  \n",
       "427                                                 ❤️  \n",
       "428             Không bán thì thôi, thiếu gì chỗ mua 🤨  \n",
       "\n",
       "[429 rows x 2 columns]"
      ]
     },
     "execution_count": 48,
     "metadata": {},
     "output_type": "execute_result"
    }
   ],
   "source": [
    "df_comments = pd.read_csv('../data/crawl/facebook_comments.csv')\n",
    "df_comments"
   ]
  },
  {
   "cell_type": "code",
   "execution_count": 49,
   "id": "480f3eaa",
   "metadata": {},
   "outputs": [
    {
     "data": {
      "application/vnd.microsoft.datawrangler.viewer.v0+json": {
       "columns": [
        {
         "name": "index",
         "rawType": "object",
         "type": "string"
        },
        {
         "name": "0",
         "rawType": "int64",
         "type": "integer"
        }
       ],
       "ref": "2b6b57c0-a98c-47c6-8c62-b76c516d1246",
       "rows": [
        [
         "url",
         "0"
        ],
        [
         "comment_text",
         "0"
        ]
       ],
       "shape": {
        "columns": 1,
        "rows": 2
       }
      },
      "text/plain": [
       "url             0\n",
       "comment_text    0\n",
       "dtype: int64"
      ]
     },
     "execution_count": 49,
     "metadata": {},
     "output_type": "execute_result"
    }
   ],
   "source": [
    "df_comments.isnull().sum()"
   ]
  },
  {
   "cell_type": "code",
   "execution_count": 50,
   "id": "d16e8cde",
   "metadata": {},
   "outputs": [
    {
     "data": {
      "application/vnd.microsoft.datawrangler.viewer.v0+json": {
       "columns": [
        {
         "name": "index",
         "rawType": "int64",
         "type": "integer"
        },
        {
         "name": "url",
         "rawType": "object",
         "type": "string"
        },
        {
         "name": "comment_text",
         "rawType": "object",
         "type": "string"
        }
       ],
       "ref": "9ef9ee3e-97e0-4c5b-b4f2-3ad56c96789c",
       "rows": [
        [
         "4",
         "https://www.facebook.com/100064878600431/posts/1147451870760756",
         " ❤️"
        ],
        [
         "8",
         "https://www.facebook.com/100064878600431/posts/1147451870760756",
         "Mua laptop"
        ],
        [
         "9",
         "https://www.facebook.com/100064878600431/posts/1147451870760756",
         "Mua laptop"
        ],
        [
         "13",
         "https://www.facebook.com/100064878600431/posts/1147451870760756",
         " ❤️"
        ],
        [
         "17",
         "https://www.facebook.com/100064878600431/posts/1147451870760756",
         " ❤️"
        ],
        [
         "22",
         "https://www.facebook.com/100064878600431/posts/1147451870760756",
         "xinn chàoo"
        ],
        [
         "23",
         "https://www.facebook.com/100064878600431/posts/1147451870760756",
         "xinn chàoo"
        ],
        [
         "27",
         "https://www.facebook.com/100064878600431/posts/1147436614095615",
         "Rất tuyệt vời"
        ],
        [
         "30",
         "https://www.facebook.com/100064878600431/posts/1147436614095615",
         "Rất tuyệt vời"
        ],
        [
         "32",
         "https://www.facebook.com/100064878600431/posts/1147436614095615",
         "Rất tuyệt vời"
        ],
        [
         "34",
         "https://www.facebook.com/100064878600431/posts/1147436614095615",
         "Mua laptop"
        ],
        [
         "40",
         "https://www.facebook.com/100064878600431/posts/1147436614095615",
         "Mua laptop"
        ],
        [
         "52",
         "https://www.facebook.com/100064878600431/posts/1147413360764607",
         "Mua laptop"
        ],
        [
         "55",
         "https://www.facebook.com/100064878600431/posts/1147413360764607",
         "Mua laptop"
        ],
        [
         "71",
         "https://www.facebook.com/100064878600431/posts/1146548730851070",
         "Rất tuyệt vời"
        ],
        [
         "72",
         "https://www.facebook.com/100064878600431/posts/1146548730851070",
         "Rất tuyệt vời"
        ],
        [
         "115",
         "https://www.facebook.com/100064878600431/posts/1146504504188826",
         "."
        ],
        [
         "139",
         "https://www.facebook.com/100064878600431/posts/1146504504188826",
         "."
        ],
        [
         "286",
         "https://www.facebook.com/100064878600431/posts/1145328240973119",
         "?"
        ],
        [
         "340",
         "https://www.facebook.com/100064878600431/posts/1145328240973119",
         "?"
        ]
       ],
       "shape": {
        "columns": 2,
        "rows": 20
       }
      },
      "text/html": [
       "<div>\n",
       "<style scoped>\n",
       "    .dataframe tbody tr th:only-of-type {\n",
       "        vertical-align: middle;\n",
       "    }\n",
       "\n",
       "    .dataframe tbody tr th {\n",
       "        vertical-align: top;\n",
       "    }\n",
       "\n",
       "    .dataframe thead th {\n",
       "        text-align: right;\n",
       "    }\n",
       "</style>\n",
       "<table border=\"1\" class=\"dataframe\">\n",
       "  <thead>\n",
       "    <tr style=\"text-align: right;\">\n",
       "      <th></th>\n",
       "      <th>url</th>\n",
       "      <th>comment_text</th>\n",
       "    </tr>\n",
       "  </thead>\n",
       "  <tbody>\n",
       "    <tr>\n",
       "      <th>4</th>\n",
       "      <td>https://www.facebook.com/100064878600431/posts...</td>\n",
       "      <td>❤️</td>\n",
       "    </tr>\n",
       "    <tr>\n",
       "      <th>8</th>\n",
       "      <td>https://www.facebook.com/100064878600431/posts...</td>\n",
       "      <td>Mua laptop</td>\n",
       "    </tr>\n",
       "    <tr>\n",
       "      <th>9</th>\n",
       "      <td>https://www.facebook.com/100064878600431/posts...</td>\n",
       "      <td>Mua laptop</td>\n",
       "    </tr>\n",
       "    <tr>\n",
       "      <th>13</th>\n",
       "      <td>https://www.facebook.com/100064878600431/posts...</td>\n",
       "      <td>❤️</td>\n",
       "    </tr>\n",
       "    <tr>\n",
       "      <th>17</th>\n",
       "      <td>https://www.facebook.com/100064878600431/posts...</td>\n",
       "      <td>❤️</td>\n",
       "    </tr>\n",
       "    <tr>\n",
       "      <th>22</th>\n",
       "      <td>https://www.facebook.com/100064878600431/posts...</td>\n",
       "      <td>xinn chàoo</td>\n",
       "    </tr>\n",
       "    <tr>\n",
       "      <th>23</th>\n",
       "      <td>https://www.facebook.com/100064878600431/posts...</td>\n",
       "      <td>xinn chàoo</td>\n",
       "    </tr>\n",
       "    <tr>\n",
       "      <th>27</th>\n",
       "      <td>https://www.facebook.com/100064878600431/posts...</td>\n",
       "      <td>Rất tuyệt vời</td>\n",
       "    </tr>\n",
       "    <tr>\n",
       "      <th>30</th>\n",
       "      <td>https://www.facebook.com/100064878600431/posts...</td>\n",
       "      <td>Rất tuyệt vời</td>\n",
       "    </tr>\n",
       "    <tr>\n",
       "      <th>32</th>\n",
       "      <td>https://www.facebook.com/100064878600431/posts...</td>\n",
       "      <td>Rất tuyệt vời</td>\n",
       "    </tr>\n",
       "    <tr>\n",
       "      <th>34</th>\n",
       "      <td>https://www.facebook.com/100064878600431/posts...</td>\n",
       "      <td>Mua laptop</td>\n",
       "    </tr>\n",
       "    <tr>\n",
       "      <th>40</th>\n",
       "      <td>https://www.facebook.com/100064878600431/posts...</td>\n",
       "      <td>Mua laptop</td>\n",
       "    </tr>\n",
       "    <tr>\n",
       "      <th>52</th>\n",
       "      <td>https://www.facebook.com/100064878600431/posts...</td>\n",
       "      <td>Mua laptop</td>\n",
       "    </tr>\n",
       "    <tr>\n",
       "      <th>55</th>\n",
       "      <td>https://www.facebook.com/100064878600431/posts...</td>\n",
       "      <td>Mua laptop</td>\n",
       "    </tr>\n",
       "    <tr>\n",
       "      <th>71</th>\n",
       "      <td>https://www.facebook.com/100064878600431/posts...</td>\n",
       "      <td>Rất tuyệt vời</td>\n",
       "    </tr>\n",
       "    <tr>\n",
       "      <th>72</th>\n",
       "      <td>https://www.facebook.com/100064878600431/posts...</td>\n",
       "      <td>Rất tuyệt vời</td>\n",
       "    </tr>\n",
       "    <tr>\n",
       "      <th>115</th>\n",
       "      <td>https://www.facebook.com/100064878600431/posts...</td>\n",
       "      <td>.</td>\n",
       "    </tr>\n",
       "    <tr>\n",
       "      <th>139</th>\n",
       "      <td>https://www.facebook.com/100064878600431/posts...</td>\n",
       "      <td>.</td>\n",
       "    </tr>\n",
       "    <tr>\n",
       "      <th>286</th>\n",
       "      <td>https://www.facebook.com/100064878600431/posts...</td>\n",
       "      <td>?</td>\n",
       "    </tr>\n",
       "    <tr>\n",
       "      <th>340</th>\n",
       "      <td>https://www.facebook.com/100064878600431/posts...</td>\n",
       "      <td>?</td>\n",
       "    </tr>\n",
       "  </tbody>\n",
       "</table>\n",
       "</div>"
      ],
      "text/plain": [
       "                                                   url   comment_text\n",
       "4    https://www.facebook.com/100064878600431/posts...             ❤️\n",
       "8    https://www.facebook.com/100064878600431/posts...     Mua laptop\n",
       "9    https://www.facebook.com/100064878600431/posts...     Mua laptop\n",
       "13   https://www.facebook.com/100064878600431/posts...             ❤️\n",
       "17   https://www.facebook.com/100064878600431/posts...             ❤️\n",
       "22   https://www.facebook.com/100064878600431/posts...     xinn chàoo\n",
       "23   https://www.facebook.com/100064878600431/posts...     xinn chàoo\n",
       "27   https://www.facebook.com/100064878600431/posts...  Rất tuyệt vời\n",
       "30   https://www.facebook.com/100064878600431/posts...  Rất tuyệt vời\n",
       "32   https://www.facebook.com/100064878600431/posts...  Rất tuyệt vời\n",
       "34   https://www.facebook.com/100064878600431/posts...     Mua laptop\n",
       "40   https://www.facebook.com/100064878600431/posts...     Mua laptop\n",
       "52   https://www.facebook.com/100064878600431/posts...     Mua laptop\n",
       "55   https://www.facebook.com/100064878600431/posts...     Mua laptop\n",
       "71   https://www.facebook.com/100064878600431/posts...  Rất tuyệt vời\n",
       "72   https://www.facebook.com/100064878600431/posts...  Rất tuyệt vời\n",
       "115  https://www.facebook.com/100064878600431/posts...              .\n",
       "139  https://www.facebook.com/100064878600431/posts...              .\n",
       "286  https://www.facebook.com/100064878600431/posts...              ?\n",
       "340  https://www.facebook.com/100064878600431/posts...              ?"
      ]
     },
     "execution_count": 50,
     "metadata": {},
     "output_type": "execute_result"
    }
   ],
   "source": [
    "df_comments[df_comments.duplicated(keep=False)]"
   ]
  },
  {
   "cell_type": "code",
   "execution_count": 51,
   "id": "5febd7a7",
   "metadata": {},
   "outputs": [
    {
     "data": {
      "application/vnd.microsoft.datawrangler.viewer.v0+json": {
       "columns": [
        {
         "name": "index",
         "rawType": "int64",
         "type": "integer"
        },
        {
         "name": "url",
         "rawType": "object",
         "type": "string"
        },
        {
         "name": "comment_text",
         "rawType": "object",
         "type": "string"
        }
       ],
       "ref": "2464dca9-6194-41eb-998f-a23562392824",
       "rows": [
        [
         "0",
         "https://www.facebook.com/100064878600431/posts/1147451870760756",
         "Em xin chúc anh mạnh khỏe vui vẻ thành công"
        ],
        [
         "1",
         "https://www.facebook.com/100064878600431/posts/1147451870760756",
         "Em xin anh chị bỏ qua giúp em"
        ],
        [
         "2",
         "https://www.facebook.com/100064878600431/posts/1147451870760756",
         "Em xin cảm ơn mến Đức"
        ],
        [
         "3",
         "https://www.facebook.com/100064878600431/posts/1147451870760756",
         "36 16 56 96. Dem xac mai moi san . DATA ? xac. Liem giay tao nhe xac mai moi san."
        ],
        [
         "4",
         "https://www.facebook.com/100064878600431/posts/1147451870760756",
         " ❤️"
        ],
        [
         "5",
         "https://www.facebook.com/100064878600431/posts/1147451870760756",
         "Rất tuyệt vời"
        ],
        [
         "6",
         "https://www.facebook.com/100064878600431/posts/1147451870760756",
         "Iphone 14prm"
        ],
        [
         "7",
         "https://www.facebook.com/100064878600431/posts/1147451870760756",
         "Hi"
        ],
        [
         "8",
         "https://www.facebook.com/100064878600431/posts/1147451870760756",
         "Mua laptop"
        ],
        [
         "10",
         "https://www.facebook.com/100064878600431/posts/1147451870760756",
         "Ko thêm chữ còn sau chữ “mà” đc à"
        ],
        [
         "11",
         "https://www.facebook.com/100064878600431/posts/1147451870760756",
         "https://vt.tiktok.com/ZSkjuEWyq/"
        ],
        [
         "12",
         "https://www.facebook.com/100064878600431/posts/1147451870760756",
         "Tự hào về bạn quá, cố gắng phát huy nhé!"
        ],
        [
         "14",
         "https://www.facebook.com/100064878600431/posts/1147451870760756",
         "Mọi chuyện rồi sẽ ổn, đừng lo quá!"
        ],
        [
         "15",
         "https://www.facebook.com/100064878600431/posts/1147451870760756",
         " 👍"
        ],
        [
         "16",
         "https://www.facebook.com/100064878600431/posts/1147451870760756",
         "Xac ? Data ?"
        ],
        [
         "18",
         "https://www.facebook.com/100064878600431/posts/1147451870760756",
         " 🫶 🫶 🫶"
        ],
        [
         "19",
         "https://www.facebook.com/100064878600431/posts/1147451870760756",
         "xin chào"
        ],
        [
         "20",
         "https://www.facebook.com/100064878600431/posts/1147451870760756",
         "Tt"
        ],
        [
         "21",
         "https://www.facebook.com/100064878600431/posts/1147451870760756",
         "hello"
        ],
        [
         "22",
         "https://www.facebook.com/100064878600431/posts/1147451870760756",
         "xinn chàoo"
        ],
        [
         "24",
         "https://www.facebook.com/100064878600431/posts/1147451870760756",
         "Ok"
        ],
        [
         "25",
         "https://www.facebook.com/100064878600431/posts/1147451870760756",
         "\"Must-have item\" được săn lùng nhiều nhất! Chính là [tai nghe Airpods Pro rep 1:1]: https://vt.tiktok.com/ZSk1Hp6Jc/ 👍"
        ],
        [
         "26",
         "https://www.facebook.com/100064878600431/posts/1147436614095615",
         "Bữa tưởng ngưng bán lap rồi chứ"
        ],
        [
         "27",
         "https://www.facebook.com/100064878600431/posts/1147436614095615",
         "Rất tuyệt vời"
        ],
        [
         "28",
         "https://www.facebook.com/100064878600431/posts/1147436614095615",
         "Rất tuyệt"
        ],
        [
         "29",
         "https://www.facebook.com/100064878600431/posts/1147436614095615",
         "Rây tuyệt đẹp"
        ],
        [
         "31",
         "https://www.facebook.com/100064878600431/posts/1147436614095615",
         "Còn laptop 9.990.000 ko ạ"
        ],
        [
         "33",
         "https://www.facebook.com/100064878600431/posts/1147436614095615",
         "Mua tầm 8 triệu tư vấn cho em"
        ],
        [
         "34",
         "https://www.facebook.com/100064878600431/posts/1147436614095615",
         "Mua laptop"
        ],
        [
         "35",
         "https://www.facebook.com/100064878600431/posts/1147436614095615",
         "PpĐ"
        ],
        [
         "36",
         "https://www.facebook.com/100064878600431/posts/1147436614095615",
         "M.m"
        ],
        [
         "37",
         "https://www.facebook.com/100064878600431/posts/1147436614095615",
         "I'm Nguyen Lam Hong Ngoc. Ngoctoi"
        ],
        [
         "38",
         "https://www.facebook.com/100064878600431/posts/1147436614095615",
         "Hấp dẫn!"
        ],
        [
         "39",
         "https://www.facebook.com/100064878600431/posts/1147436614095615",
         " ❤️"
        ],
        [
         "41",
         "https://www.facebook.com/100064878600431/posts/1147436614095615",
         "hello"
        ],
        [
         "42",
         "https://www.facebook.com/100064878600431/posts/1147436614095615",
         "hj"
        ],
        [
         "43",
         "https://www.facebook.com/100064878600431/posts/1147436614095615",
         "Ok"
        ],
        [
         "44",
         "https://www.facebook.com/100064878600431/posts/1147436614095615",
         "woww"
        ],
        [
         "45",
         "https://www.facebook.com/100064878600431/posts/1147413360764607",
         "10 đỉm cho team vì biết nghe lời 🤣"
        ],
        [
         "46",
         "https://www.facebook.com/100064878600431/posts/1147413360764607",
         "Đổi content rồi à :)) nhưng vẫn vote đuổi việc team content, team mkt nhé. Tập đoàn lớn mà sao content vcll"
        ],
        [
         "47",
         "https://www.facebook.com/100064878600431/posts/1147413360764607",
         "Ủa sao hôm trước nói không bán, làm đi đồn quá trời quá đất"
        ],
        [
         "48",
         "https://www.facebook.com/100064878600431/posts/1147413360764607",
         "Rất tuyệt vời"
        ],
        [
         "49",
         "https://www.facebook.com/100064878600431/posts/1147413360764607",
         "Túm lại là bán cái gì"
        ],
        [
         "50",
         "https://www.facebook.com/100064878600431/posts/1147413360764607",
         "content thông minh hơn rồi đấy ad 😃"
        ],
        [
         "51",
         "https://www.facebook.com/100064878600431/posts/1147413360764607",
         "Laptop ko có sẵn ở Hcm, ship ở tỉnh xa tới giờ là 4 ngày rồi chưa tới, tính sát nút là 6 ngày mới chịu giao à, vận chuyển tệ thật sự"
        ],
        [
         "52",
         "https://www.facebook.com/100064878600431/posts/1147413360764607",
         "Mua laptop"
        ],
        [
         "53",
         "https://www.facebook.com/100064878600431/posts/1147413360764607",
         "Xin gia laptop 9990000"
        ],
        [
         "54",
         "https://www.facebook.com/100064878600431/posts/1147413360764607",
         "Ok"
        ],
        [
         "56",
         "https://www.facebook.com/100064878600431/posts/1147413360764607",
         "Ib em tư vấn với ạ, e nhắn tin shop k được"
        ],
        [
         "57",
         "https://www.facebook.com/100064878600431/posts/1147413360764607",
         "."
        ]
       ],
       "shape": {
        "columns": 2,
        "rows": 418
       }
      },
      "text/html": [
       "<div>\n",
       "<style scoped>\n",
       "    .dataframe tbody tr th:only-of-type {\n",
       "        vertical-align: middle;\n",
       "    }\n",
       "\n",
       "    .dataframe tbody tr th {\n",
       "        vertical-align: top;\n",
       "    }\n",
       "\n",
       "    .dataframe thead th {\n",
       "        text-align: right;\n",
       "    }\n",
       "</style>\n",
       "<table border=\"1\" class=\"dataframe\">\n",
       "  <thead>\n",
       "    <tr style=\"text-align: right;\">\n",
       "      <th></th>\n",
       "      <th>url</th>\n",
       "      <th>comment_text</th>\n",
       "    </tr>\n",
       "  </thead>\n",
       "  <tbody>\n",
       "    <tr>\n",
       "      <th>0</th>\n",
       "      <td>https://www.facebook.com/100064878600431/posts...</td>\n",
       "      <td>Em xin chúc anh mạnh khỏe vui vẻ thành công</td>\n",
       "    </tr>\n",
       "    <tr>\n",
       "      <th>1</th>\n",
       "      <td>https://www.facebook.com/100064878600431/posts...</td>\n",
       "      <td>Em xin anh chị bỏ qua giúp em</td>\n",
       "    </tr>\n",
       "    <tr>\n",
       "      <th>2</th>\n",
       "      <td>https://www.facebook.com/100064878600431/posts...</td>\n",
       "      <td>Em xin cảm ơn mến Đức</td>\n",
       "    </tr>\n",
       "    <tr>\n",
       "      <th>3</th>\n",
       "      <td>https://www.facebook.com/100064878600431/posts...</td>\n",
       "      <td>36 16 56 96. Dem xac mai moi san . DATA ? xac....</td>\n",
       "    </tr>\n",
       "    <tr>\n",
       "      <th>4</th>\n",
       "      <td>https://www.facebook.com/100064878600431/posts...</td>\n",
       "      <td>❤️</td>\n",
       "    </tr>\n",
       "    <tr>\n",
       "      <th>...</th>\n",
       "      <td>...</td>\n",
       "      <td>...</td>\n",
       "    </tr>\n",
       "    <tr>\n",
       "      <th>424</th>\n",
       "      <td>https://www.facebook.com/100064878600431/posts...</td>\n",
       "      <td>Hết ý tưởng r à ad 🤣</td>\n",
       "    </tr>\n",
       "    <tr>\n",
       "      <th>425</th>\n",
       "      <td>https://www.facebook.com/100064878600431/posts...</td>\n",
       "      <td>À nay Tgdđ không bán laptop nữa, ae chuyển qua...</td>\n",
       "    </tr>\n",
       "    <tr>\n",
       "      <th>426</th>\n",
       "      <td>https://www.facebook.com/100064878600431/posts...</td>\n",
       "      <td>😀 😀</td>\n",
       "    </tr>\n",
       "    <tr>\n",
       "      <th>427</th>\n",
       "      <td>https://www.facebook.com/100064878600431/posts...</td>\n",
       "      <td>❤️</td>\n",
       "    </tr>\n",
       "    <tr>\n",
       "      <th>428</th>\n",
       "      <td>https://www.facebook.com/100064878600431/posts...</td>\n",
       "      <td>Không bán thì thôi, thiếu gì chỗ mua 🤨</td>\n",
       "    </tr>\n",
       "  </tbody>\n",
       "</table>\n",
       "<p>418 rows × 2 columns</p>\n",
       "</div>"
      ],
      "text/plain": [
       "                                                   url  \\\n",
       "0    https://www.facebook.com/100064878600431/posts...   \n",
       "1    https://www.facebook.com/100064878600431/posts...   \n",
       "2    https://www.facebook.com/100064878600431/posts...   \n",
       "3    https://www.facebook.com/100064878600431/posts...   \n",
       "4    https://www.facebook.com/100064878600431/posts...   \n",
       "..                                                 ...   \n",
       "424  https://www.facebook.com/100064878600431/posts...   \n",
       "425  https://www.facebook.com/100064878600431/posts...   \n",
       "426  https://www.facebook.com/100064878600431/posts...   \n",
       "427  https://www.facebook.com/100064878600431/posts...   \n",
       "428  https://www.facebook.com/100064878600431/posts...   \n",
       "\n",
       "                                          comment_text  \n",
       "0          Em xin chúc anh mạnh khỏe vui vẻ thành công  \n",
       "1                        Em xin anh chị bỏ qua giúp em  \n",
       "2                                Em xin cảm ơn mến Đức  \n",
       "3    36 16 56 96. Dem xac mai moi san . DATA ? xac....  \n",
       "4                                                   ❤️  \n",
       "..                                                 ...  \n",
       "424                               Hết ý tưởng r à ad 🤣  \n",
       "425  À nay Tgdđ không bán laptop nữa, ae chuyển qua...  \n",
       "426                                                😀 😀  \n",
       "427                                                 ❤️  \n",
       "428             Không bán thì thôi, thiếu gì chỗ mua 🤨  \n",
       "\n",
       "[418 rows x 2 columns]"
      ]
     },
     "execution_count": 51,
     "metadata": {},
     "output_type": "execute_result"
    }
   ],
   "source": [
    "df_comments = df_comments.drop_duplicates(subset=['url', 'comment_text'])\n",
    "df_comments\n"
   ]
  },
  {
   "cell_type": "code",
   "execution_count": 52,
   "id": "52a30d76",
   "metadata": {},
   "outputs": [
    {
     "data": {
      "application/vnd.microsoft.datawrangler.viewer.v0+json": {
       "columns": [
        {
         "name": "index",
         "rawType": "int64",
         "type": "integer"
        },
        {
         "name": "url",
         "rawType": "object",
         "type": "string"
        },
        {
         "name": "comment_text",
         "rawType": "object",
         "type": "string"
        },
        {
         "name": "comment_text_remove_emojis",
         "rawType": "object",
         "type": "string"
        }
       ],
       "ref": "27eb4ccf-0406-456e-bc5d-dcc6470fe886",
       "rows": [
        [
         "0",
         "https://www.facebook.com/100064878600431/posts/1147451870760756",
         "Em xin chúc anh mạnh khỏe vui vẻ thành công",
         "Em xin chúc anh mạnh khỏe vui vẻ thành công"
        ],
        [
         "1",
         "https://www.facebook.com/100064878600431/posts/1147451870760756",
         "Em xin anh chị bỏ qua giúp em",
         "Em xin anh chị bỏ qua giúp em"
        ],
        [
         "2",
         "https://www.facebook.com/100064878600431/posts/1147451870760756",
         "Em xin cảm ơn mến Đức",
         "Em xin cảm ơn mến Đức"
        ],
        [
         "3",
         "https://www.facebook.com/100064878600431/posts/1147451870760756",
         "36 16 56 96. Dem xac mai moi san . DATA ? xac. Liem giay tao nhe xac mai moi san.",
         "36 16 56 96. Dem xac mai moi san . DATA ? xac. Liem giay tao nhe xac mai moi san."
        ],
        [
         "4",
         "https://www.facebook.com/100064878600431/posts/1147451870760756",
         " ❤️",
         " "
        ],
        [
         "5",
         "https://www.facebook.com/100064878600431/posts/1147451870760756",
         "Rất tuyệt vời",
         "Rất tuyệt vời"
        ],
        [
         "6",
         "https://www.facebook.com/100064878600431/posts/1147451870760756",
         "Iphone 14prm",
         "Iphone 14prm"
        ],
        [
         "7",
         "https://www.facebook.com/100064878600431/posts/1147451870760756",
         "Hi",
         "Hi"
        ],
        [
         "8",
         "https://www.facebook.com/100064878600431/posts/1147451870760756",
         "Mua laptop",
         "Mua laptop"
        ],
        [
         "10",
         "https://www.facebook.com/100064878600431/posts/1147451870760756",
         "Ko thêm chữ còn sau chữ “mà” đc à",
         "Ko thêm chữ còn sau chữ “mà” đc à"
        ],
        [
         "11",
         "https://www.facebook.com/100064878600431/posts/1147451870760756",
         "https://vt.tiktok.com/ZSkjuEWyq/",
         "https://vt.tiktok.com/ZSkjuEWyq/"
        ],
        [
         "12",
         "https://www.facebook.com/100064878600431/posts/1147451870760756",
         "Tự hào về bạn quá, cố gắng phát huy nhé!",
         "Tự hào về bạn quá, cố gắng phát huy nhé!"
        ],
        [
         "14",
         "https://www.facebook.com/100064878600431/posts/1147451870760756",
         "Mọi chuyện rồi sẽ ổn, đừng lo quá!",
         "Mọi chuyện rồi sẽ ổn, đừng lo quá!"
        ],
        [
         "15",
         "https://www.facebook.com/100064878600431/posts/1147451870760756",
         " 👍",
         " "
        ],
        [
         "16",
         "https://www.facebook.com/100064878600431/posts/1147451870760756",
         "Xac ? Data ?",
         "Xac ? Data ?"
        ],
        [
         "18",
         "https://www.facebook.com/100064878600431/posts/1147451870760756",
         " 🫶 🫶 🫶",
         "   "
        ],
        [
         "19",
         "https://www.facebook.com/100064878600431/posts/1147451870760756",
         "xin chào",
         "xin chào"
        ],
        [
         "20",
         "https://www.facebook.com/100064878600431/posts/1147451870760756",
         "Tt",
         "Tt"
        ],
        [
         "21",
         "https://www.facebook.com/100064878600431/posts/1147451870760756",
         "hello",
         "hello"
        ],
        [
         "22",
         "https://www.facebook.com/100064878600431/posts/1147451870760756",
         "xinn chàoo",
         "xinn chàoo"
        ],
        [
         "24",
         "https://www.facebook.com/100064878600431/posts/1147451870760756",
         "Ok",
         "Ok"
        ],
        [
         "25",
         "https://www.facebook.com/100064878600431/posts/1147451870760756",
         "\"Must-have item\" được săn lùng nhiều nhất! Chính là [tai nghe Airpods Pro rep 1:1]: https://vt.tiktok.com/ZSk1Hp6Jc/ 👍",
         "\"Must-have item\" được săn lùng nhiều nhất! Chính là [tai nghe Airpods Pro rep 1:1]: https://vt.tiktok.com/ZSk1Hp6Jc/ "
        ],
        [
         "26",
         "https://www.facebook.com/100064878600431/posts/1147436614095615",
         "Bữa tưởng ngưng bán lap rồi chứ",
         "Bữa tưởng ngưng bán lap rồi chứ"
        ],
        [
         "27",
         "https://www.facebook.com/100064878600431/posts/1147436614095615",
         "Rất tuyệt vời",
         "Rất tuyệt vời"
        ],
        [
         "28",
         "https://www.facebook.com/100064878600431/posts/1147436614095615",
         "Rất tuyệt",
         "Rất tuyệt"
        ],
        [
         "29",
         "https://www.facebook.com/100064878600431/posts/1147436614095615",
         "Rây tuyệt đẹp",
         "Rây tuyệt đẹp"
        ],
        [
         "31",
         "https://www.facebook.com/100064878600431/posts/1147436614095615",
         "Còn laptop 9.990.000 ko ạ",
         "Còn laptop 9.990.000 ko ạ"
        ],
        [
         "33",
         "https://www.facebook.com/100064878600431/posts/1147436614095615",
         "Mua tầm 8 triệu tư vấn cho em",
         "Mua tầm 8 triệu tư vấn cho em"
        ],
        [
         "34",
         "https://www.facebook.com/100064878600431/posts/1147436614095615",
         "Mua laptop",
         "Mua laptop"
        ],
        [
         "35",
         "https://www.facebook.com/100064878600431/posts/1147436614095615",
         "PpĐ",
         "PpĐ"
        ],
        [
         "36",
         "https://www.facebook.com/100064878600431/posts/1147436614095615",
         "M.m",
         "M.m"
        ],
        [
         "37",
         "https://www.facebook.com/100064878600431/posts/1147436614095615",
         "I'm Nguyen Lam Hong Ngoc. Ngoctoi",
         "I'm Nguyen Lam Hong Ngoc. Ngoctoi"
        ],
        [
         "38",
         "https://www.facebook.com/100064878600431/posts/1147436614095615",
         "Hấp dẫn!",
         "Hấp dẫn!"
        ],
        [
         "39",
         "https://www.facebook.com/100064878600431/posts/1147436614095615",
         " ❤️",
         " "
        ],
        [
         "41",
         "https://www.facebook.com/100064878600431/posts/1147436614095615",
         "hello",
         "hello"
        ],
        [
         "42",
         "https://www.facebook.com/100064878600431/posts/1147436614095615",
         "hj",
         "hj"
        ],
        [
         "43",
         "https://www.facebook.com/100064878600431/posts/1147436614095615",
         "Ok",
         "Ok"
        ],
        [
         "44",
         "https://www.facebook.com/100064878600431/posts/1147436614095615",
         "woww",
         "woww"
        ],
        [
         "45",
         "https://www.facebook.com/100064878600431/posts/1147413360764607",
         "10 đỉm cho team vì biết nghe lời 🤣",
         "10 đỉm cho team vì biết nghe lời "
        ],
        [
         "46",
         "https://www.facebook.com/100064878600431/posts/1147413360764607",
         "Đổi content rồi à :)) nhưng vẫn vote đuổi việc team content, team mkt nhé. Tập đoàn lớn mà sao content vcll",
         "Đổi content rồi à :)) nhưng vẫn vote đuổi việc team content, team mkt nhé. Tập đoàn lớn mà sao content vcll"
        ],
        [
         "47",
         "https://www.facebook.com/100064878600431/posts/1147413360764607",
         "Ủa sao hôm trước nói không bán, làm đi đồn quá trời quá đất",
         "Ủa sao hôm trước nói không bán, làm đi đồn quá trời quá đất"
        ],
        [
         "48",
         "https://www.facebook.com/100064878600431/posts/1147413360764607",
         "Rất tuyệt vời",
         "Rất tuyệt vời"
        ],
        [
         "49",
         "https://www.facebook.com/100064878600431/posts/1147413360764607",
         "Túm lại là bán cái gì",
         "Túm lại là bán cái gì"
        ],
        [
         "50",
         "https://www.facebook.com/100064878600431/posts/1147413360764607",
         "content thông minh hơn rồi đấy ad 😃",
         "content thông minh hơn rồi đấy ad "
        ],
        [
         "51",
         "https://www.facebook.com/100064878600431/posts/1147413360764607",
         "Laptop ko có sẵn ở Hcm, ship ở tỉnh xa tới giờ là 4 ngày rồi chưa tới, tính sát nút là 6 ngày mới chịu giao à, vận chuyển tệ thật sự",
         "Laptop ko có sẵn ở Hcm, ship ở tỉnh xa tới giờ là 4 ngày rồi chưa tới, tính sát nút là 6 ngày mới chịu giao à, vận chuyển tệ thật sự"
        ],
        [
         "52",
         "https://www.facebook.com/100064878600431/posts/1147413360764607",
         "Mua laptop",
         "Mua laptop"
        ],
        [
         "53",
         "https://www.facebook.com/100064878600431/posts/1147413360764607",
         "Xin gia laptop 9990000",
         "Xin gia laptop 9990000"
        ],
        [
         "54",
         "https://www.facebook.com/100064878600431/posts/1147413360764607",
         "Ok",
         "Ok"
        ],
        [
         "56",
         "https://www.facebook.com/100064878600431/posts/1147413360764607",
         "Ib em tư vấn với ạ, e nhắn tin shop k được",
         "Ib em tư vấn với ạ, e nhắn tin shop k được"
        ],
        [
         "57",
         "https://www.facebook.com/100064878600431/posts/1147413360764607",
         ".",
         "."
        ]
       ],
       "shape": {
        "columns": 3,
        "rows": 418
       }
      },
      "text/html": [
       "<div>\n",
       "<style scoped>\n",
       "    .dataframe tbody tr th:only-of-type {\n",
       "        vertical-align: middle;\n",
       "    }\n",
       "\n",
       "    .dataframe tbody tr th {\n",
       "        vertical-align: top;\n",
       "    }\n",
       "\n",
       "    .dataframe thead th {\n",
       "        text-align: right;\n",
       "    }\n",
       "</style>\n",
       "<table border=\"1\" class=\"dataframe\">\n",
       "  <thead>\n",
       "    <tr style=\"text-align: right;\">\n",
       "      <th></th>\n",
       "      <th>url</th>\n",
       "      <th>comment_text</th>\n",
       "      <th>comment_text_remove_emojis</th>\n",
       "    </tr>\n",
       "  </thead>\n",
       "  <tbody>\n",
       "    <tr>\n",
       "      <th>0</th>\n",
       "      <td>https://www.facebook.com/100064878600431/posts...</td>\n",
       "      <td>Em xin chúc anh mạnh khỏe vui vẻ thành công</td>\n",
       "      <td>Em xin chúc anh mạnh khỏe vui vẻ thành công</td>\n",
       "    </tr>\n",
       "    <tr>\n",
       "      <th>1</th>\n",
       "      <td>https://www.facebook.com/100064878600431/posts...</td>\n",
       "      <td>Em xin anh chị bỏ qua giúp em</td>\n",
       "      <td>Em xin anh chị bỏ qua giúp em</td>\n",
       "    </tr>\n",
       "    <tr>\n",
       "      <th>2</th>\n",
       "      <td>https://www.facebook.com/100064878600431/posts...</td>\n",
       "      <td>Em xin cảm ơn mến Đức</td>\n",
       "      <td>Em xin cảm ơn mến Đức</td>\n",
       "    </tr>\n",
       "    <tr>\n",
       "      <th>3</th>\n",
       "      <td>https://www.facebook.com/100064878600431/posts...</td>\n",
       "      <td>36 16 56 96. Dem xac mai moi san . DATA ? xac....</td>\n",
       "      <td>36 16 56 96. Dem xac mai moi san . DATA ? xac....</td>\n",
       "    </tr>\n",
       "    <tr>\n",
       "      <th>4</th>\n",
       "      <td>https://www.facebook.com/100064878600431/posts...</td>\n",
       "      <td>❤️</td>\n",
       "      <td></td>\n",
       "    </tr>\n",
       "    <tr>\n",
       "      <th>...</th>\n",
       "      <td>...</td>\n",
       "      <td>...</td>\n",
       "      <td>...</td>\n",
       "    </tr>\n",
       "    <tr>\n",
       "      <th>424</th>\n",
       "      <td>https://www.facebook.com/100064878600431/posts...</td>\n",
       "      <td>Hết ý tưởng r à ad 🤣</td>\n",
       "      <td>Hết ý tưởng r à ad</td>\n",
       "    </tr>\n",
       "    <tr>\n",
       "      <th>425</th>\n",
       "      <td>https://www.facebook.com/100064878600431/posts...</td>\n",
       "      <td>À nay Tgdđ không bán laptop nữa, ae chuyển qua...</td>\n",
       "      <td>À nay Tgdđ không bán laptop nữa, ae chuyển qua...</td>\n",
       "    </tr>\n",
       "    <tr>\n",
       "      <th>426</th>\n",
       "      <td>https://www.facebook.com/100064878600431/posts...</td>\n",
       "      <td>😀 😀</td>\n",
       "      <td></td>\n",
       "    </tr>\n",
       "    <tr>\n",
       "      <th>427</th>\n",
       "      <td>https://www.facebook.com/100064878600431/posts...</td>\n",
       "      <td>❤️</td>\n",
       "      <td></td>\n",
       "    </tr>\n",
       "    <tr>\n",
       "      <th>428</th>\n",
       "      <td>https://www.facebook.com/100064878600431/posts...</td>\n",
       "      <td>Không bán thì thôi, thiếu gì chỗ mua 🤨</td>\n",
       "      <td>Không bán thì thôi, thiếu gì chỗ mua</td>\n",
       "    </tr>\n",
       "  </tbody>\n",
       "</table>\n",
       "<p>418 rows × 3 columns</p>\n",
       "</div>"
      ],
      "text/plain": [
       "                                                   url  \\\n",
       "0    https://www.facebook.com/100064878600431/posts...   \n",
       "1    https://www.facebook.com/100064878600431/posts...   \n",
       "2    https://www.facebook.com/100064878600431/posts...   \n",
       "3    https://www.facebook.com/100064878600431/posts...   \n",
       "4    https://www.facebook.com/100064878600431/posts...   \n",
       "..                                                 ...   \n",
       "424  https://www.facebook.com/100064878600431/posts...   \n",
       "425  https://www.facebook.com/100064878600431/posts...   \n",
       "426  https://www.facebook.com/100064878600431/posts...   \n",
       "427  https://www.facebook.com/100064878600431/posts...   \n",
       "428  https://www.facebook.com/100064878600431/posts...   \n",
       "\n",
       "                                          comment_text  \\\n",
       "0          Em xin chúc anh mạnh khỏe vui vẻ thành công   \n",
       "1                        Em xin anh chị bỏ qua giúp em   \n",
       "2                                Em xin cảm ơn mến Đức   \n",
       "3    36 16 56 96. Dem xac mai moi san . DATA ? xac....   \n",
       "4                                                   ❤️   \n",
       "..                                                 ...   \n",
       "424                               Hết ý tưởng r à ad 🤣   \n",
       "425  À nay Tgdđ không bán laptop nữa, ae chuyển qua...   \n",
       "426                                                😀 😀   \n",
       "427                                                 ❤️   \n",
       "428             Không bán thì thôi, thiếu gì chỗ mua 🤨   \n",
       "\n",
       "                            comment_text_remove_emojis  \n",
       "0          Em xin chúc anh mạnh khỏe vui vẻ thành công  \n",
       "1                        Em xin anh chị bỏ qua giúp em  \n",
       "2                                Em xin cảm ơn mến Đức  \n",
       "3    36 16 56 96. Dem xac mai moi san . DATA ? xac....  \n",
       "4                                                       \n",
       "..                                                 ...  \n",
       "424                                Hết ý tưởng r à ad   \n",
       "425  À nay Tgdđ không bán laptop nữa, ae chuyển qua...  \n",
       "426                                                     \n",
       "427                                                     \n",
       "428              Không bán thì thôi, thiếu gì chỗ mua   \n",
       "\n",
       "[418 rows x 3 columns]"
      ]
     },
     "execution_count": 52,
     "metadata": {},
     "output_type": "execute_result"
    }
   ],
   "source": [
    "def remove_emojis_from_text(text):\n",
    "    return emoji.replace_emoji(text, replace='')\n",
    "\n",
    "df_comments = df_comments.copy()\n",
    "df_comments['comment_text_remove_emojis'] = df_comments['comment_text'].apply(remove_emojis_from_text)\n",
    "df_comments"
   ]
  },
  {
   "cell_type": "code",
   "execution_count": 53,
   "id": "e6052b62",
   "metadata": {},
   "outputs": [],
   "source": [
    "df_comments.to_csv('../data/processed/facebook_comments_processed.csv', index=False)"
   ]
  }
 ],
 "metadata": {
  "kernelspec": {
   "display_name": "fb-comment-sentiment-analysis",
   "language": "python",
   "name": "python3"
  },
  "language_info": {
   "codemirror_mode": {
    "name": "ipython",
    "version": 3
   },
   "file_extension": ".py",
   "mimetype": "text/x-python",
   "name": "python",
   "nbconvert_exporter": "python",
   "pygments_lexer": "ipython3",
   "version": "3.11.9"
  }
 },
 "nbformat": 4,
 "nbformat_minor": 5
}
